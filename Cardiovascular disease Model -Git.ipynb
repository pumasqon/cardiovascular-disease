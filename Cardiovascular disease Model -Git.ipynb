{
 "cells": [
  {
   "cell_type": "markdown",
   "metadata": {},
   "source": [
    "# Cardiovascular Disease Model#\n",
    "\n",
    "To predict whether individuals have cardiovascular disease or not.\n",
    "\n",
    "Dataset from: https://www.kaggle.com/raminhashimzade/cardio-disease\n",
    "\n",
    "The dataset contains 13 columns and a target column:\n",
    "\n",
    "1. Id number\n",
    "2. Age in days\n",
    "3. Age in years\n",
    "4. Gender (1 - women; 2 - men)\n",
    "5. Height in cm.\n",
    "6. Weight in kg.\n",
    "7. Systolic blood Pressure (ap_hi)\n",
    "8. Diastolic blood pressure (ap_lo)\n",
    "9. Cholesterol (1 - normal; 2 - above normal; 3 - well above normal)\n",
    "10. Glucose(Glu) (1 - normal; 2 - above normal; 3 - well above normal)\n",
    "11. Smoking (0 - no; 1 - yes)\n",
    "12. Alcohol intake (0 - no; 1 - yes)\n",
    "13. Physical activity (0 - passive life, 1 - active life)\n",
    "14. Target variable: Presence or absence of cardiovascular disease(cardio)(0 - no; 1 - yes)\n"
   ]
  },
  {
   "cell_type": "markdown",
   "metadata": {},
   "source": [
    "#  Import Library and File"
   ]
  },
  {
   "cell_type": "code",
   "execution_count": 1,
   "metadata": {},
   "outputs": [],
   "source": [
    "import pandas as pd\n",
    "import numpy as np\n",
    "import matplotlib.pyplot as plt\n",
    "import seaborn as sns\n",
    "%matplotlib inline"
   ]
  },
  {
   "cell_type": "code",
   "execution_count": 2,
   "metadata": {},
   "outputs": [],
   "source": [
    "data = pd.read_csv('data.csv')"
   ]
  },
  {
   "cell_type": "markdown",
   "metadata": {},
   "source": [
    "# Data Exploration #"
   ]
  },
  {
   "cell_type": "code",
   "execution_count": 3,
   "metadata": {
    "scrolled": true
   },
   "outputs": [
    {
     "name": "stdout",
     "output_type": "stream",
     "text": [
      "<class 'pandas.core.frame.DataFrame'>\n",
      "RangeIndex: 70000 entries, 0 to 69999\n",
      "Data columns (total 14 columns):\n",
      " #   Column       Non-Null Count  Dtype  \n",
      "---  ------       --------------  -----  \n",
      " 0   id           70000 non-null  int64  \n",
      " 1   age_days     70000 non-null  int64  \n",
      " 2   age_year     70000 non-null  float64\n",
      " 3   gender       70000 non-null  int64  \n",
      " 4   height       70000 non-null  int64  \n",
      " 5   weight       70000 non-null  float64\n",
      " 6   ap_hi        70000 non-null  int64  \n",
      " 7   ap_lo        70000 non-null  int64  \n",
      " 8   cholesterol  70000 non-null  int64  \n",
      " 9   gluc         70000 non-null  int64  \n",
      " 10  smoke        70000 non-null  int64  \n",
      " 11  alco         70000 non-null  int64  \n",
      " 12  active       70000 non-null  int64  \n",
      " 13  cardio       70000 non-null  int64  \n",
      "dtypes: float64(2), int64(12)\n",
      "memory usage: 7.5 MB\n"
     ]
    }
   ],
   "source": [
    "data.info()"
   ]
  },
  {
   "cell_type": "markdown",
   "metadata": {},
   "source": [
    "**no missing data**"
   ]
  },
  {
   "cell_type": "code",
   "execution_count": 4,
   "metadata": {},
   "outputs": [
    {
     "data": {
      "text/html": [
       "<div>\n",
       "<style scoped>\n",
       "    .dataframe tbody tr th:only-of-type {\n",
       "        vertical-align: middle;\n",
       "    }\n",
       "\n",
       "    .dataframe tbody tr th {\n",
       "        vertical-align: top;\n",
       "    }\n",
       "\n",
       "    .dataframe thead th {\n",
       "        text-align: right;\n",
       "    }\n",
       "</style>\n",
       "<table border=\"1\" class=\"dataframe\">\n",
       "  <thead>\n",
       "    <tr style=\"text-align: right;\">\n",
       "      <th></th>\n",
       "      <th>count</th>\n",
       "      <th>mean</th>\n",
       "      <th>std</th>\n",
       "      <th>min</th>\n",
       "      <th>25%</th>\n",
       "      <th>50%</th>\n",
       "      <th>75%</th>\n",
       "      <th>max</th>\n",
       "    </tr>\n",
       "  </thead>\n",
       "  <tbody>\n",
       "    <tr>\n",
       "      <th>id</th>\n",
       "      <td>70000.0</td>\n",
       "      <td>49972.419900</td>\n",
       "      <td>28851.302323</td>\n",
       "      <td>0.000000</td>\n",
       "      <td>25006.750000</td>\n",
       "      <td>50001.500000</td>\n",
       "      <td>74889.250000</td>\n",
       "      <td>99999.000000</td>\n",
       "    </tr>\n",
       "    <tr>\n",
       "      <th>age_days</th>\n",
       "      <td>70000.0</td>\n",
       "      <td>19468.865814</td>\n",
       "      <td>2467.251667</td>\n",
       "      <td>10798.000000</td>\n",
       "      <td>17664.000000</td>\n",
       "      <td>19703.000000</td>\n",
       "      <td>21327.000000</td>\n",
       "      <td>23713.000000</td>\n",
       "    </tr>\n",
       "    <tr>\n",
       "      <th>age_year</th>\n",
       "      <td>70000.0</td>\n",
       "      <td>53.339358</td>\n",
       "      <td>6.759594</td>\n",
       "      <td>29.583562</td>\n",
       "      <td>48.394521</td>\n",
       "      <td>53.980822</td>\n",
       "      <td>58.430137</td>\n",
       "      <td>64.967123</td>\n",
       "    </tr>\n",
       "    <tr>\n",
       "      <th>gender</th>\n",
       "      <td>70000.0</td>\n",
       "      <td>1.349571</td>\n",
       "      <td>0.476838</td>\n",
       "      <td>1.000000</td>\n",
       "      <td>1.000000</td>\n",
       "      <td>1.000000</td>\n",
       "      <td>2.000000</td>\n",
       "      <td>2.000000</td>\n",
       "    </tr>\n",
       "    <tr>\n",
       "      <th>height</th>\n",
       "      <td>70000.0</td>\n",
       "      <td>164.359229</td>\n",
       "      <td>8.210126</td>\n",
       "      <td>55.000000</td>\n",
       "      <td>159.000000</td>\n",
       "      <td>165.000000</td>\n",
       "      <td>170.000000</td>\n",
       "      <td>250.000000</td>\n",
       "    </tr>\n",
       "    <tr>\n",
       "      <th>weight</th>\n",
       "      <td>70000.0</td>\n",
       "      <td>74.205690</td>\n",
       "      <td>14.395757</td>\n",
       "      <td>10.000000</td>\n",
       "      <td>65.000000</td>\n",
       "      <td>72.000000</td>\n",
       "      <td>82.000000</td>\n",
       "      <td>200.000000</td>\n",
       "    </tr>\n",
       "    <tr>\n",
       "      <th>ap_hi</th>\n",
       "      <td>70000.0</td>\n",
       "      <td>128.817286</td>\n",
       "      <td>154.011419</td>\n",
       "      <td>-150.000000</td>\n",
       "      <td>120.000000</td>\n",
       "      <td>120.000000</td>\n",
       "      <td>140.000000</td>\n",
       "      <td>16020.000000</td>\n",
       "    </tr>\n",
       "    <tr>\n",
       "      <th>ap_lo</th>\n",
       "      <td>70000.0</td>\n",
       "      <td>96.630414</td>\n",
       "      <td>188.472530</td>\n",
       "      <td>-70.000000</td>\n",
       "      <td>80.000000</td>\n",
       "      <td>80.000000</td>\n",
       "      <td>90.000000</td>\n",
       "      <td>11000.000000</td>\n",
       "    </tr>\n",
       "    <tr>\n",
       "      <th>cholesterol</th>\n",
       "      <td>70000.0</td>\n",
       "      <td>1.366871</td>\n",
       "      <td>0.680250</td>\n",
       "      <td>1.000000</td>\n",
       "      <td>1.000000</td>\n",
       "      <td>1.000000</td>\n",
       "      <td>2.000000</td>\n",
       "      <td>3.000000</td>\n",
       "    </tr>\n",
       "    <tr>\n",
       "      <th>gluc</th>\n",
       "      <td>70000.0</td>\n",
       "      <td>1.226457</td>\n",
       "      <td>0.572270</td>\n",
       "      <td>1.000000</td>\n",
       "      <td>1.000000</td>\n",
       "      <td>1.000000</td>\n",
       "      <td>1.000000</td>\n",
       "      <td>3.000000</td>\n",
       "    </tr>\n",
       "    <tr>\n",
       "      <th>smoke</th>\n",
       "      <td>70000.0</td>\n",
       "      <td>0.088129</td>\n",
       "      <td>0.283484</td>\n",
       "      <td>0.000000</td>\n",
       "      <td>0.000000</td>\n",
       "      <td>0.000000</td>\n",
       "      <td>0.000000</td>\n",
       "      <td>1.000000</td>\n",
       "    </tr>\n",
       "    <tr>\n",
       "      <th>alco</th>\n",
       "      <td>70000.0</td>\n",
       "      <td>0.053771</td>\n",
       "      <td>0.225568</td>\n",
       "      <td>0.000000</td>\n",
       "      <td>0.000000</td>\n",
       "      <td>0.000000</td>\n",
       "      <td>0.000000</td>\n",
       "      <td>1.000000</td>\n",
       "    </tr>\n",
       "    <tr>\n",
       "      <th>active</th>\n",
       "      <td>70000.0</td>\n",
       "      <td>0.803729</td>\n",
       "      <td>0.397179</td>\n",
       "      <td>0.000000</td>\n",
       "      <td>1.000000</td>\n",
       "      <td>1.000000</td>\n",
       "      <td>1.000000</td>\n",
       "      <td>1.000000</td>\n",
       "    </tr>\n",
       "    <tr>\n",
       "      <th>cardio</th>\n",
       "      <td>70000.0</td>\n",
       "      <td>0.499700</td>\n",
       "      <td>0.500003</td>\n",
       "      <td>0.000000</td>\n",
       "      <td>0.000000</td>\n",
       "      <td>0.000000</td>\n",
       "      <td>1.000000</td>\n",
       "      <td>1.000000</td>\n",
       "    </tr>\n",
       "  </tbody>\n",
       "</table>\n",
       "</div>"
      ],
      "text/plain": [
       "               count          mean           std           min           25%  \\\n",
       "id           70000.0  49972.419900  28851.302323      0.000000  25006.750000   \n",
       "age_days     70000.0  19468.865814   2467.251667  10798.000000  17664.000000   \n",
       "age_year     70000.0     53.339358      6.759594     29.583562     48.394521   \n",
       "gender       70000.0      1.349571      0.476838      1.000000      1.000000   \n",
       "height       70000.0    164.359229      8.210126     55.000000    159.000000   \n",
       "weight       70000.0     74.205690     14.395757     10.000000     65.000000   \n",
       "ap_hi        70000.0    128.817286    154.011419   -150.000000    120.000000   \n",
       "ap_lo        70000.0     96.630414    188.472530    -70.000000     80.000000   \n",
       "cholesterol  70000.0      1.366871      0.680250      1.000000      1.000000   \n",
       "gluc         70000.0      1.226457      0.572270      1.000000      1.000000   \n",
       "smoke        70000.0      0.088129      0.283484      0.000000      0.000000   \n",
       "alco         70000.0      0.053771      0.225568      0.000000      0.000000   \n",
       "active       70000.0      0.803729      0.397179      0.000000      1.000000   \n",
       "cardio       70000.0      0.499700      0.500003      0.000000      0.000000   \n",
       "\n",
       "                      50%           75%           max  \n",
       "id           50001.500000  74889.250000  99999.000000  \n",
       "age_days     19703.000000  21327.000000  23713.000000  \n",
       "age_year        53.980822     58.430137     64.967123  \n",
       "gender           1.000000      2.000000      2.000000  \n",
       "height         165.000000    170.000000    250.000000  \n",
       "weight          72.000000     82.000000    200.000000  \n",
       "ap_hi          120.000000    140.000000  16020.000000  \n",
       "ap_lo           80.000000     90.000000  11000.000000  \n",
       "cholesterol      1.000000      2.000000      3.000000  \n",
       "gluc             1.000000      1.000000      3.000000  \n",
       "smoke            0.000000      0.000000      1.000000  \n",
       "alco             0.000000      0.000000      1.000000  \n",
       "active           1.000000      1.000000      1.000000  \n",
       "cardio           0.000000      1.000000      1.000000  "
      ]
     },
     "execution_count": 4,
     "metadata": {},
     "output_type": "execute_result"
    }
   ],
   "source": [
    "data.describe().transpose()"
   ]
  },
  {
   "cell_type": "code",
   "execution_count": 5,
   "metadata": {},
   "outputs": [
    {
     "data": {
      "text/html": [
       "<div>\n",
       "<style scoped>\n",
       "    .dataframe tbody tr th:only-of-type {\n",
       "        vertical-align: middle;\n",
       "    }\n",
       "\n",
       "    .dataframe tbody tr th {\n",
       "        vertical-align: top;\n",
       "    }\n",
       "\n",
       "    .dataframe thead th {\n",
       "        text-align: right;\n",
       "    }\n",
       "</style>\n",
       "<table border=\"1\" class=\"dataframe\">\n",
       "  <thead>\n",
       "    <tr style=\"text-align: right;\">\n",
       "      <th></th>\n",
       "      <th>id</th>\n",
       "      <th>age_days</th>\n",
       "      <th>age_year</th>\n",
       "      <th>gender</th>\n",
       "      <th>height</th>\n",
       "      <th>weight</th>\n",
       "      <th>ap_hi</th>\n",
       "      <th>ap_lo</th>\n",
       "      <th>cholesterol</th>\n",
       "      <th>gluc</th>\n",
       "      <th>smoke</th>\n",
       "      <th>alco</th>\n",
       "      <th>active</th>\n",
       "      <th>cardio</th>\n",
       "    </tr>\n",
       "  </thead>\n",
       "  <tbody>\n",
       "    <tr>\n",
       "      <th>id</th>\n",
       "      <td>1.000000</td>\n",
       "      <td>0.003457</td>\n",
       "      <td>0.003457</td>\n",
       "      <td>0.003502</td>\n",
       "      <td>-0.003038</td>\n",
       "      <td>-0.001830</td>\n",
       "      <td>0.003356</td>\n",
       "      <td>-0.002529</td>\n",
       "      <td>0.006106</td>\n",
       "      <td>0.002467</td>\n",
       "      <td>-0.003699</td>\n",
       "      <td>0.001210</td>\n",
       "      <td>0.003755</td>\n",
       "      <td>0.003799</td>\n",
       "    </tr>\n",
       "    <tr>\n",
       "      <th>age_days</th>\n",
       "      <td>0.003457</td>\n",
       "      <td>1.000000</td>\n",
       "      <td>1.000000</td>\n",
       "      <td>-0.022811</td>\n",
       "      <td>-0.081515</td>\n",
       "      <td>0.053684</td>\n",
       "      <td>0.020764</td>\n",
       "      <td>0.017647</td>\n",
       "      <td>0.154424</td>\n",
       "      <td>0.098703</td>\n",
       "      <td>-0.047633</td>\n",
       "      <td>-0.029723</td>\n",
       "      <td>-0.009927</td>\n",
       "      <td>0.238159</td>\n",
       "    </tr>\n",
       "    <tr>\n",
       "      <th>age_year</th>\n",
       "      <td>0.003457</td>\n",
       "      <td>1.000000</td>\n",
       "      <td>1.000000</td>\n",
       "      <td>-0.022811</td>\n",
       "      <td>-0.081515</td>\n",
       "      <td>0.053684</td>\n",
       "      <td>0.020764</td>\n",
       "      <td>0.017647</td>\n",
       "      <td>0.154424</td>\n",
       "      <td>0.098703</td>\n",
       "      <td>-0.047633</td>\n",
       "      <td>-0.029723</td>\n",
       "      <td>-0.009927</td>\n",
       "      <td>0.238159</td>\n",
       "    </tr>\n",
       "    <tr>\n",
       "      <th>gender</th>\n",
       "      <td>0.003502</td>\n",
       "      <td>-0.022811</td>\n",
       "      <td>-0.022811</td>\n",
       "      <td>1.000000</td>\n",
       "      <td>0.499033</td>\n",
       "      <td>0.155406</td>\n",
       "      <td>0.006005</td>\n",
       "      <td>0.015254</td>\n",
       "      <td>-0.035821</td>\n",
       "      <td>-0.020491</td>\n",
       "      <td>0.338135</td>\n",
       "      <td>0.170966</td>\n",
       "      <td>0.005866</td>\n",
       "      <td>0.008109</td>\n",
       "    </tr>\n",
       "    <tr>\n",
       "      <th>height</th>\n",
       "      <td>-0.003038</td>\n",
       "      <td>-0.081515</td>\n",
       "      <td>-0.081515</td>\n",
       "      <td>0.499033</td>\n",
       "      <td>1.000000</td>\n",
       "      <td>0.290968</td>\n",
       "      <td>0.005488</td>\n",
       "      <td>0.006150</td>\n",
       "      <td>-0.050226</td>\n",
       "      <td>-0.018595</td>\n",
       "      <td>0.187989</td>\n",
       "      <td>0.094419</td>\n",
       "      <td>-0.006570</td>\n",
       "      <td>-0.010821</td>\n",
       "    </tr>\n",
       "    <tr>\n",
       "      <th>weight</th>\n",
       "      <td>-0.001830</td>\n",
       "      <td>0.053684</td>\n",
       "      <td>0.053684</td>\n",
       "      <td>0.155406</td>\n",
       "      <td>0.290968</td>\n",
       "      <td>1.000000</td>\n",
       "      <td>0.030702</td>\n",
       "      <td>0.043710</td>\n",
       "      <td>0.141768</td>\n",
       "      <td>0.106857</td>\n",
       "      <td>0.067780</td>\n",
       "      <td>0.067113</td>\n",
       "      <td>-0.016867</td>\n",
       "      <td>0.181660</td>\n",
       "    </tr>\n",
       "    <tr>\n",
       "      <th>ap_hi</th>\n",
       "      <td>0.003356</td>\n",
       "      <td>0.020764</td>\n",
       "      <td>0.020764</td>\n",
       "      <td>0.006005</td>\n",
       "      <td>0.005488</td>\n",
       "      <td>0.030702</td>\n",
       "      <td>1.000000</td>\n",
       "      <td>0.016086</td>\n",
       "      <td>0.023778</td>\n",
       "      <td>0.011841</td>\n",
       "      <td>-0.000922</td>\n",
       "      <td>0.001408</td>\n",
       "      <td>-0.000033</td>\n",
       "      <td>0.054475</td>\n",
       "    </tr>\n",
       "    <tr>\n",
       "      <th>ap_lo</th>\n",
       "      <td>-0.002529</td>\n",
       "      <td>0.017647</td>\n",
       "      <td>0.017647</td>\n",
       "      <td>0.015254</td>\n",
       "      <td>0.006150</td>\n",
       "      <td>0.043710</td>\n",
       "      <td>0.016086</td>\n",
       "      <td>1.000000</td>\n",
       "      <td>0.024019</td>\n",
       "      <td>0.010806</td>\n",
       "      <td>0.005186</td>\n",
       "      <td>0.010601</td>\n",
       "      <td>0.004780</td>\n",
       "      <td>0.065719</td>\n",
       "    </tr>\n",
       "    <tr>\n",
       "      <th>cholesterol</th>\n",
       "      <td>0.006106</td>\n",
       "      <td>0.154424</td>\n",
       "      <td>0.154424</td>\n",
       "      <td>-0.035821</td>\n",
       "      <td>-0.050226</td>\n",
       "      <td>0.141768</td>\n",
       "      <td>0.023778</td>\n",
       "      <td>0.024019</td>\n",
       "      <td>1.000000</td>\n",
       "      <td>0.451578</td>\n",
       "      <td>0.010354</td>\n",
       "      <td>0.035760</td>\n",
       "      <td>0.009911</td>\n",
       "      <td>0.221147</td>\n",
       "    </tr>\n",
       "    <tr>\n",
       "      <th>gluc</th>\n",
       "      <td>0.002467</td>\n",
       "      <td>0.098703</td>\n",
       "      <td>0.098703</td>\n",
       "      <td>-0.020491</td>\n",
       "      <td>-0.018595</td>\n",
       "      <td>0.106857</td>\n",
       "      <td>0.011841</td>\n",
       "      <td>0.010806</td>\n",
       "      <td>0.451578</td>\n",
       "      <td>1.000000</td>\n",
       "      <td>-0.004756</td>\n",
       "      <td>0.011246</td>\n",
       "      <td>-0.006770</td>\n",
       "      <td>0.089307</td>\n",
       "    </tr>\n",
       "    <tr>\n",
       "      <th>smoke</th>\n",
       "      <td>-0.003699</td>\n",
       "      <td>-0.047633</td>\n",
       "      <td>-0.047633</td>\n",
       "      <td>0.338135</td>\n",
       "      <td>0.187989</td>\n",
       "      <td>0.067780</td>\n",
       "      <td>-0.000922</td>\n",
       "      <td>0.005186</td>\n",
       "      <td>0.010354</td>\n",
       "      <td>-0.004756</td>\n",
       "      <td>1.000000</td>\n",
       "      <td>0.340094</td>\n",
       "      <td>0.025858</td>\n",
       "      <td>-0.015486</td>\n",
       "    </tr>\n",
       "    <tr>\n",
       "      <th>alco</th>\n",
       "      <td>0.001210</td>\n",
       "      <td>-0.029723</td>\n",
       "      <td>-0.029723</td>\n",
       "      <td>0.170966</td>\n",
       "      <td>0.094419</td>\n",
       "      <td>0.067113</td>\n",
       "      <td>0.001408</td>\n",
       "      <td>0.010601</td>\n",
       "      <td>0.035760</td>\n",
       "      <td>0.011246</td>\n",
       "      <td>0.340094</td>\n",
       "      <td>1.000000</td>\n",
       "      <td>0.025476</td>\n",
       "      <td>-0.007330</td>\n",
       "    </tr>\n",
       "    <tr>\n",
       "      <th>active</th>\n",
       "      <td>0.003755</td>\n",
       "      <td>-0.009927</td>\n",
       "      <td>-0.009927</td>\n",
       "      <td>0.005866</td>\n",
       "      <td>-0.006570</td>\n",
       "      <td>-0.016867</td>\n",
       "      <td>-0.000033</td>\n",
       "      <td>0.004780</td>\n",
       "      <td>0.009911</td>\n",
       "      <td>-0.006770</td>\n",
       "      <td>0.025858</td>\n",
       "      <td>0.025476</td>\n",
       "      <td>1.000000</td>\n",
       "      <td>-0.035653</td>\n",
       "    </tr>\n",
       "    <tr>\n",
       "      <th>cardio</th>\n",
       "      <td>0.003799</td>\n",
       "      <td>0.238159</td>\n",
       "      <td>0.238159</td>\n",
       "      <td>0.008109</td>\n",
       "      <td>-0.010821</td>\n",
       "      <td>0.181660</td>\n",
       "      <td>0.054475</td>\n",
       "      <td>0.065719</td>\n",
       "      <td>0.221147</td>\n",
       "      <td>0.089307</td>\n",
       "      <td>-0.015486</td>\n",
       "      <td>-0.007330</td>\n",
       "      <td>-0.035653</td>\n",
       "      <td>1.000000</td>\n",
       "    </tr>\n",
       "  </tbody>\n",
       "</table>\n",
       "</div>"
      ],
      "text/plain": [
       "                   id  age_days  age_year    gender    height    weight  \\\n",
       "id           1.000000  0.003457  0.003457  0.003502 -0.003038 -0.001830   \n",
       "age_days     0.003457  1.000000  1.000000 -0.022811 -0.081515  0.053684   \n",
       "age_year     0.003457  1.000000  1.000000 -0.022811 -0.081515  0.053684   \n",
       "gender       0.003502 -0.022811 -0.022811  1.000000  0.499033  0.155406   \n",
       "height      -0.003038 -0.081515 -0.081515  0.499033  1.000000  0.290968   \n",
       "weight      -0.001830  0.053684  0.053684  0.155406  0.290968  1.000000   \n",
       "ap_hi        0.003356  0.020764  0.020764  0.006005  0.005488  0.030702   \n",
       "ap_lo       -0.002529  0.017647  0.017647  0.015254  0.006150  0.043710   \n",
       "cholesterol  0.006106  0.154424  0.154424 -0.035821 -0.050226  0.141768   \n",
       "gluc         0.002467  0.098703  0.098703 -0.020491 -0.018595  0.106857   \n",
       "smoke       -0.003699 -0.047633 -0.047633  0.338135  0.187989  0.067780   \n",
       "alco         0.001210 -0.029723 -0.029723  0.170966  0.094419  0.067113   \n",
       "active       0.003755 -0.009927 -0.009927  0.005866 -0.006570 -0.016867   \n",
       "cardio       0.003799  0.238159  0.238159  0.008109 -0.010821  0.181660   \n",
       "\n",
       "                ap_hi     ap_lo  cholesterol      gluc     smoke      alco  \\\n",
       "id           0.003356 -0.002529     0.006106  0.002467 -0.003699  0.001210   \n",
       "age_days     0.020764  0.017647     0.154424  0.098703 -0.047633 -0.029723   \n",
       "age_year     0.020764  0.017647     0.154424  0.098703 -0.047633 -0.029723   \n",
       "gender       0.006005  0.015254    -0.035821 -0.020491  0.338135  0.170966   \n",
       "height       0.005488  0.006150    -0.050226 -0.018595  0.187989  0.094419   \n",
       "weight       0.030702  0.043710     0.141768  0.106857  0.067780  0.067113   \n",
       "ap_hi        1.000000  0.016086     0.023778  0.011841 -0.000922  0.001408   \n",
       "ap_lo        0.016086  1.000000     0.024019  0.010806  0.005186  0.010601   \n",
       "cholesterol  0.023778  0.024019     1.000000  0.451578  0.010354  0.035760   \n",
       "gluc         0.011841  0.010806     0.451578  1.000000 -0.004756  0.011246   \n",
       "smoke       -0.000922  0.005186     0.010354 -0.004756  1.000000  0.340094   \n",
       "alco         0.001408  0.010601     0.035760  0.011246  0.340094  1.000000   \n",
       "active      -0.000033  0.004780     0.009911 -0.006770  0.025858  0.025476   \n",
       "cardio       0.054475  0.065719     0.221147  0.089307 -0.015486 -0.007330   \n",
       "\n",
       "               active    cardio  \n",
       "id           0.003755  0.003799  \n",
       "age_days    -0.009927  0.238159  \n",
       "age_year    -0.009927  0.238159  \n",
       "gender       0.005866  0.008109  \n",
       "height      -0.006570 -0.010821  \n",
       "weight      -0.016867  0.181660  \n",
       "ap_hi       -0.000033  0.054475  \n",
       "ap_lo        0.004780  0.065719  \n",
       "cholesterol  0.009911  0.221147  \n",
       "gluc        -0.006770  0.089307  \n",
       "smoke        0.025858 -0.015486  \n",
       "alco         0.025476 -0.007330  \n",
       "active       1.000000 -0.035653  \n",
       "cardio      -0.035653  1.000000  "
      ]
     },
     "execution_count": 5,
     "metadata": {},
     "output_type": "execute_result"
    }
   ],
   "source": [
    "data.corr()"
   ]
  },
  {
   "cell_type": "code",
   "execution_count": 6,
   "metadata": {},
   "outputs": [
    {
     "data": {
      "text/plain": [
       "<matplotlib.axes._subplots.AxesSubplot at 0x18b1972ed48>"
      ]
     },
     "execution_count": 6,
     "metadata": {},
     "output_type": "execute_result"
    },
    {
     "data": {
      "image/png": "[encoded data removed]",
      "text/plain": [
       "<Figure size 1080x576 with 2 Axes>"
      ]
     },
     "metadata": {
      "needs_background": "light"
     },
     "output_type": "display_data"
    }
   ],
   "source": [
    "plt.figure(figsize=(15,8))\n",
    "sns.heatmap(data.corr(),annot=True,cmap='viridis')"
   ]
  },
  {
   "cell_type": "markdown",
   "metadata": {},
   "source": [
    "# Target Variable: cardio #\n",
    "\n",
    "(0 - no; 1 - yes)\n",
    "\n",
    "**well-balance classes**"
   ]
  },
  {
   "cell_type": "code",
   "execution_count": 7,
   "metadata": {
    "scrolled": true
   },
   "outputs": [
    {
     "data": {
      "text/plain": [
       "<matplotlib.axes._subplots.AxesSubplot at 0x18b19838c08>"
      ]
     },
     "execution_count": 7,
     "metadata": {},
     "output_type": "execute_result"
    },
    {
     "data": {
      "image/png": "[encoded data removed]",
      "text/plain": [
       "<Figure size 432x288 with 1 Axes>"
      ]
     },
     "metadata": {
      "needs_background": "light"
     },
     "output_type": "display_data"
    }
   ],
   "source": [
    "sns.countplot('cardio',data=data)"
   ]
  },
  {
   "cell_type": "markdown",
   "metadata": {},
   "source": [
    "# Data Preprocessing : Featue Engineering # "
   ]
  },
  {
   "cell_type": "markdown",
   "metadata": {},
   "source": [
    "**1. age_days,** **age_year**\n",
    "      \n",
    "The 'age_days' and 'age_year' are the same, so I drop the 'age_days' column.\n"
   ]
  },
  {
   "cell_type": "code",
   "execution_count": 8,
   "metadata": {},
   "outputs": [],
   "source": [
    "data = data.drop('age_days',axis=1)"
   ]
  },
  {
   "cell_type": "code",
   "execution_count": 9,
   "metadata": {
    "scrolled": false
   },
   "outputs": [
    {
     "data": {
      "text/plain": [
       "<matplotlib.axes._subplots.AxesSubplot at 0x18b19ac3848>"
      ]
     },
     "execution_count": 9,
     "metadata": {},
     "output_type": "execute_result"
    },
    {
     "data": {
      "image/png": "[encoded data removed]",
      "text/plain": [
       "<Figure size 864x288 with 1 Axes>"
      ]
     },
     "metadata": {
      "needs_background": "light"
     },
     "output_type": "display_data"
    }
   ],
   "source": [
    "plt.figure(figsize=(12,4))\n",
    "sns.distplot(data['age_year'],kde=False,bins=30)"
   ]
  },
  {
   "cell_type": "markdown",
   "metadata": {},
   "source": [
    "The above graph is Left skewed distribution, so I correct this with binning.\n",
    "\n",
    "**Binning** \n",
    "\n",
    "min 29, max 64\n",
    "\n",
    "The major risk factor for artherosclerotic cardiovascular disease in males is >=45 and in females is >=55.\n",
    "\n",
    "So I set 3 ranges of age groups: [ '<45' , '45-54' , '55-65']\n",
    "\n",
    "And then convert to an ordinal column 'age_range' of [0,1,2].\n"
   ]
  },
  {
   "cell_type": "code",
   "execution_count": 10,
   "metadata": {
    "scrolled": false
   },
   "outputs": [],
   "source": [
    "cut_points = [0,44,54,64]\n",
    "label_names = [0,1,2]\n",
    "\n",
    "data['age_year'] = data['age_year'].apply(int)\n",
    "data['age_range'] = pd.cut(data['age_year'],cut_points,labels=label_names)"
   ]
  },
  {
   "cell_type": "code",
   "execution_count": 11,
   "metadata": {},
   "outputs": [],
   "source": [
    "data['age_range'] = data['age_range'].astype('int64')"
   ]
  },
  {
   "cell_type": "code",
   "execution_count": 12,
   "metadata": {
    "scrolled": false
   },
   "outputs": [
    {
     "data": {
      "text/plain": [
       "<matplotlib.axes._subplots.AxesSubplot at 0x18b18986d48>"
      ]
     },
     "execution_count": 12,
     "metadata": {},
     "output_type": "execute_result"
    },
    {
     "data": {
      "image/png": "[encoded data removed]",
      "text/plain": [
       "<Figure size 432x288 with 1 Axes>"
      ]
     },
     "metadata": {
      "needs_background": "light"
     },
     "output_type": "display_data"
    }
   ],
   "source": [
    "sns.countplot('age_range',data=data)"
   ]
  },
  {
   "cell_type": "code",
   "execution_count": 13,
   "metadata": {},
   "outputs": [],
   "source": [
    "data = data.drop('age_year',axis=1)"
   ]
  },
  {
   "cell_type": "markdown",
   "metadata": {},
   "source": [
    "**2. gender**\n",
    "\n",
    "Given a categorical column of gender (1 - women; 2 - men).\n",
    "\n",
    "Convert the column to dummies variable instead.\n"
   ]
  },
  {
   "cell_type": "code",
   "execution_count": 14,
   "metadata": {},
   "outputs": [
    {
     "data": {
      "text/plain": [
       "1    45530\n",
       "2    24470\n",
       "Name: gender, dtype: int64"
      ]
     },
     "execution_count": 14,
     "metadata": {},
     "output_type": "execute_result"
    }
   ],
   "source": [
    "data['gender'].value_counts()"
   ]
  },
  {
   "cell_type": "code",
   "execution_count": 15,
   "metadata": {},
   "outputs": [],
   "source": [
    "gender = pd.get_dummies(data['gender'],drop_first=True)\n",
    "data = pd.concat([data,gender],axis=1)"
   ]
  },
  {
   "cell_type": "code",
   "execution_count": 16,
   "metadata": {},
   "outputs": [],
   "source": [
    "data = data.drop('gender',axis=1)"
   ]
  },
  {
   "cell_type": "code",
   "execution_count": 17,
   "metadata": {},
   "outputs": [],
   "source": [
    "data = data.rename({2:'men'},axis=1)"
   ]
  },
  {
   "cell_type": "code",
   "execution_count": 18,
   "metadata": {},
   "outputs": [
    {
     "data": {
      "text/html": [
       "<div>\n",
       "<style scoped>\n",
       "    .dataframe tbody tr th:only-of-type {\n",
       "        vertical-align: middle;\n",
       "    }\n",
       "\n",
       "    .dataframe tbody tr th {\n",
       "        vertical-align: top;\n",
       "    }\n",
       "\n",
       "    .dataframe thead th {\n",
       "        text-align: right;\n",
       "    }\n",
       "</style>\n",
       "<table border=\"1\" class=\"dataframe\">\n",
       "  <thead>\n",
       "    <tr style=\"text-align: right;\">\n",
       "      <th></th>\n",
       "      <th>id</th>\n",
       "      <th>height</th>\n",
       "      <th>weight</th>\n",
       "      <th>ap_hi</th>\n",
       "      <th>ap_lo</th>\n",
       "      <th>cholesterol</th>\n",
       "      <th>gluc</th>\n",
       "      <th>smoke</th>\n",
       "      <th>alco</th>\n",
       "      <th>active</th>\n",
       "      <th>cardio</th>\n",
       "      <th>age_range</th>\n",
       "      <th>men</th>\n",
       "    </tr>\n",
       "  </thead>\n",
       "  <tbody>\n",
       "    <tr>\n",
       "      <th>0</th>\n",
       "      <td>0</td>\n",
       "      <td>168</td>\n",
       "      <td>62.0</td>\n",
       "      <td>110</td>\n",
       "      <td>80</td>\n",
       "      <td>1</td>\n",
       "      <td>1</td>\n",
       "      <td>0</td>\n",
       "      <td>0</td>\n",
       "      <td>1</td>\n",
       "      <td>0</td>\n",
       "      <td>1</td>\n",
       "      <td>1</td>\n",
       "    </tr>\n",
       "    <tr>\n",
       "      <th>1</th>\n",
       "      <td>1</td>\n",
       "      <td>156</td>\n",
       "      <td>85.0</td>\n",
       "      <td>140</td>\n",
       "      <td>90</td>\n",
       "      <td>3</td>\n",
       "      <td>1</td>\n",
       "      <td>0</td>\n",
       "      <td>0</td>\n",
       "      <td>1</td>\n",
       "      <td>1</td>\n",
       "      <td>2</td>\n",
       "      <td>0</td>\n",
       "    </tr>\n",
       "    <tr>\n",
       "      <th>2</th>\n",
       "      <td>2</td>\n",
       "      <td>165</td>\n",
       "      <td>64.0</td>\n",
       "      <td>130</td>\n",
       "      <td>70</td>\n",
       "      <td>3</td>\n",
       "      <td>1</td>\n",
       "      <td>0</td>\n",
       "      <td>0</td>\n",
       "      <td>0</td>\n",
       "      <td>1</td>\n",
       "      <td>1</td>\n",
       "      <td>0</td>\n",
       "    </tr>\n",
       "    <tr>\n",
       "      <th>3</th>\n",
       "      <td>3</td>\n",
       "      <td>169</td>\n",
       "      <td>82.0</td>\n",
       "      <td>150</td>\n",
       "      <td>100</td>\n",
       "      <td>1</td>\n",
       "      <td>1</td>\n",
       "      <td>0</td>\n",
       "      <td>0</td>\n",
       "      <td>1</td>\n",
       "      <td>1</td>\n",
       "      <td>1</td>\n",
       "      <td>1</td>\n",
       "    </tr>\n",
       "    <tr>\n",
       "      <th>4</th>\n",
       "      <td>4</td>\n",
       "      <td>156</td>\n",
       "      <td>56.0</td>\n",
       "      <td>100</td>\n",
       "      <td>60</td>\n",
       "      <td>1</td>\n",
       "      <td>1</td>\n",
       "      <td>0</td>\n",
       "      <td>0</td>\n",
       "      <td>0</td>\n",
       "      <td>0</td>\n",
       "      <td>1</td>\n",
       "      <td>0</td>\n",
       "    </tr>\n",
       "  </tbody>\n",
       "</table>\n",
       "</div>"
      ],
      "text/plain": [
       "   id  height  weight  ap_hi  ap_lo  cholesterol  gluc  smoke  alco  active  \\\n",
       "0   0     168    62.0    110     80            1     1      0     0       1   \n",
       "1   1     156    85.0    140     90            3     1      0     0       1   \n",
       "2   2     165    64.0    130     70            3     1      0     0       0   \n",
       "3   3     169    82.0    150    100            1     1      0     0       1   \n",
       "4   4     156    56.0    100     60            1     1      0     0       0   \n",
       "\n",
       "   cardio  age_range  men  \n",
       "0       0          1    1  \n",
       "1       1          2    0  \n",
       "2       1          1    0  \n",
       "3       1          1    1  \n",
       "4       0          1    0  "
      ]
     },
     "execution_count": 18,
     "metadata": {},
     "output_type": "execute_result"
    }
   ],
   "source": [
    "data.head()"
   ]
  },
  {
   "cell_type": "markdown",
   "metadata": {},
   "source": [
    "**3. height in cm**\n"
   ]
  },
  {
   "cell_type": "code",
   "execution_count": 19,
   "metadata": {},
   "outputs": [
    {
     "data": {
      "text/plain": [
       "<matplotlib.axes._subplots.AxesSubplot at 0x18b19ad4048>"
      ]
     },
     "execution_count": 19,
     "metadata": {},
     "output_type": "execute_result"
    },
    {
     "data": {
      "image/png": "[encoded data removed]",
      "text/plain": [
       "<Figure size 432x288 with 1 Axes>"
      ]
     },
     "metadata": {
      "needs_background": "light"
     },
     "output_type": "display_data"
    }
   ],
   "source": [
    "plt.figure(figsize=(6,4))\n",
    "sns.distplot(data['height'],kde=False,bins=50)"
   ]
  },
  {
   "cell_type": "code",
   "execution_count": 20,
   "metadata": {
    "scrolled": true
   },
   "outputs": [
    {
     "data": {
      "text/plain": [
       "<matplotlib.axes._subplots.AxesSubplot at 0x18b18ac6a08>"
      ]
     },
     "execution_count": 20,
     "metadata": {},
     "output_type": "execute_result"
    },
    {
     "data": {
      "image/png": "[encoded data removed]",
      "text/plain": [
       "<Figure size 432x288 with 1 Axes>"
      ]
     },
     "metadata": {
      "needs_background": "light"
     },
     "output_type": "display_data"
    }
   ],
   "source": [
    "sns.boxplot(x=data['height'])"
   ]
  },
  {
   "cell_type": "markdown",
   "metadata": {},
   "source": [
    "**There are some outliers.**\n",
    "\n",
    "I manage this with Z-score with cutpoints of -3 and +3."
   ]
  },
  {
   "cell_type": "code",
   "execution_count": 21,
   "metadata": {},
   "outputs": [],
   "source": [
    "from scipy import stats"
   ]
  },
  {
   "cell_type": "code",
   "execution_count": 22,
   "metadata": {},
   "outputs": [],
   "source": [
    "data['height_z'] = np.abs(stats.zscore(data['height']))"
   ]
  },
  {
   "cell_type": "code",
   "execution_count": 23,
   "metadata": {},
   "outputs": [
    {
     "data": {
      "text/html": [
       "<div>\n",
       "<style scoped>\n",
       "    .dataframe tbody tr th:only-of-type {\n",
       "        vertical-align: middle;\n",
       "    }\n",
       "\n",
       "    .dataframe tbody tr th {\n",
       "        vertical-align: top;\n",
       "    }\n",
       "\n",
       "    .dataframe thead th {\n",
       "        text-align: right;\n",
       "    }\n",
       "</style>\n",
       "<table border=\"1\" class=\"dataframe\">\n",
       "  <thead>\n",
       "    <tr style=\"text-align: right;\">\n",
       "      <th></th>\n",
       "      <th>id</th>\n",
       "      <th>height</th>\n",
       "      <th>weight</th>\n",
       "      <th>ap_hi</th>\n",
       "      <th>ap_lo</th>\n",
       "      <th>cholesterol</th>\n",
       "      <th>gluc</th>\n",
       "      <th>smoke</th>\n",
       "      <th>alco</th>\n",
       "      <th>active</th>\n",
       "      <th>cardio</th>\n",
       "      <th>age_range</th>\n",
       "      <th>men</th>\n",
       "      <th>height_z</th>\n",
       "    </tr>\n",
       "  </thead>\n",
       "  <tbody>\n",
       "    <tr>\n",
       "      <th>224</th>\n",
       "      <td>309</td>\n",
       "      <td>76</td>\n",
       "      <td>55.0</td>\n",
       "      <td>120</td>\n",
       "      <td>80</td>\n",
       "      <td>1</td>\n",
       "      <td>1</td>\n",
       "      <td>0</td>\n",
       "      <td>0</td>\n",
       "      <td>1</td>\n",
       "      <td>0</td>\n",
       "      <td>2</td>\n",
       "      <td>1</td>\n",
       "      <td>10.762302</td>\n",
       "    </tr>\n",
       "    <tr>\n",
       "      <th>1027</th>\n",
       "      <td>1432</td>\n",
       "      <td>195</td>\n",
       "      <td>111.0</td>\n",
       "      <td>148</td>\n",
       "      <td>86</td>\n",
       "      <td>1</td>\n",
       "      <td>1</td>\n",
       "      <td>0</td>\n",
       "      <td>0</td>\n",
       "      <td>1</td>\n",
       "      <td>1</td>\n",
       "      <td>0</td>\n",
       "      <td>1</td>\n",
       "      <td>3.732097</td>\n",
       "    </tr>\n",
       "    <tr>\n",
       "      <th>1117</th>\n",
       "      <td>1554</td>\n",
       "      <td>198</td>\n",
       "      <td>68.0</td>\n",
       "      <td>120</td>\n",
       "      <td>80</td>\n",
       "      <td>1</td>\n",
       "      <td>1</td>\n",
       "      <td>0</td>\n",
       "      <td>0</td>\n",
       "      <td>1</td>\n",
       "      <td>1</td>\n",
       "      <td>2</td>\n",
       "      <td>1</td>\n",
       "      <td>4.097502</td>\n",
       "    </tr>\n",
       "    <tr>\n",
       "      <th>2160</th>\n",
       "      <td>3049</td>\n",
       "      <td>196</td>\n",
       "      <td>74.0</td>\n",
       "      <td>140</td>\n",
       "      <td>90</td>\n",
       "      <td>1</td>\n",
       "      <td>1</td>\n",
       "      <td>1</td>\n",
       "      <td>1</td>\n",
       "      <td>1</td>\n",
       "      <td>1</td>\n",
       "      <td>0</td>\n",
       "      <td>1</td>\n",
       "      <td>3.853899</td>\n",
       "    </tr>\n",
       "    <tr>\n",
       "      <th>2412</th>\n",
       "      <td>3399</td>\n",
       "      <td>138</td>\n",
       "      <td>52.0</td>\n",
       "      <td>140</td>\n",
       "      <td>100</td>\n",
       "      <td>1</td>\n",
       "      <td>1</td>\n",
       "      <td>0</td>\n",
       "      <td>0</td>\n",
       "      <td>1</td>\n",
       "      <td>1</td>\n",
       "      <td>2</td>\n",
       "      <td>1</td>\n",
       "      <td>3.210598</td>\n",
       "    </tr>\n",
       "    <tr>\n",
       "      <th>...</th>\n",
       "      <td>...</td>\n",
       "      <td>...</td>\n",
       "      <td>...</td>\n",
       "      <td>...</td>\n",
       "      <td>...</td>\n",
       "      <td>...</td>\n",
       "      <td>...</td>\n",
       "      <td>...</td>\n",
       "      <td>...</td>\n",
       "      <td>...</td>\n",
       "      <td>...</td>\n",
       "      <td>...</td>\n",
       "      <td>...</td>\n",
       "      <td>...</td>\n",
       "    </tr>\n",
       "    <tr>\n",
       "      <th>67972</th>\n",
       "      <td>97080</td>\n",
       "      <td>195</td>\n",
       "      <td>90.0</td>\n",
       "      <td>120</td>\n",
       "      <td>80</td>\n",
       "      <td>1</td>\n",
       "      <td>1</td>\n",
       "      <td>0</td>\n",
       "      <td>0</td>\n",
       "      <td>0</td>\n",
       "      <td>0</td>\n",
       "      <td>2</td>\n",
       "      <td>1</td>\n",
       "      <td>3.732097</td>\n",
       "    </tr>\n",
       "    <tr>\n",
       "      <th>69052</th>\n",
       "      <td>98630</td>\n",
       "      <td>120</td>\n",
       "      <td>80.0</td>\n",
       "      <td>140</td>\n",
       "      <td>90</td>\n",
       "      <td>1</td>\n",
       "      <td>2</td>\n",
       "      <td>0</td>\n",
       "      <td>0</td>\n",
       "      <td>1</td>\n",
       "      <td>1</td>\n",
       "      <td>2</td>\n",
       "      <td>1</td>\n",
       "      <td>5.403028</td>\n",
       "    </tr>\n",
       "    <tr>\n",
       "      <th>69124</th>\n",
       "      <td>98728</td>\n",
       "      <td>138</td>\n",
       "      <td>60.0</td>\n",
       "      <td>110</td>\n",
       "      <td>80</td>\n",
       "      <td>1</td>\n",
       "      <td>1</td>\n",
       "      <td>0</td>\n",
       "      <td>0</td>\n",
       "      <td>0</td>\n",
       "      <td>0</td>\n",
       "      <td>0</td>\n",
       "      <td>1</td>\n",
       "      <td>3.210598</td>\n",
       "    </tr>\n",
       "    <tr>\n",
       "      <th>69216</th>\n",
       "      <td>98862</td>\n",
       "      <td>190</td>\n",
       "      <td>87.0</td>\n",
       "      <td>120</td>\n",
       "      <td>80</td>\n",
       "      <td>1</td>\n",
       "      <td>1</td>\n",
       "      <td>0</td>\n",
       "      <td>0</td>\n",
       "      <td>0</td>\n",
       "      <td>0</td>\n",
       "      <td>2</td>\n",
       "      <td>0</td>\n",
       "      <td>3.123089</td>\n",
       "    </tr>\n",
       "    <tr>\n",
       "      <th>69589</th>\n",
       "      <td>99401</td>\n",
       "      <td>192</td>\n",
       "      <td>83.0</td>\n",
       "      <td>110</td>\n",
       "      <td>70</td>\n",
       "      <td>1</td>\n",
       "      <td>1</td>\n",
       "      <td>0</td>\n",
       "      <td>1</td>\n",
       "      <td>0</td>\n",
       "      <td>0</td>\n",
       "      <td>1</td>\n",
       "      <td>1</td>\n",
       "      <td>3.366692</td>\n",
       "    </tr>\n",
       "  </tbody>\n",
       "</table>\n",
       "<p>293 rows × 14 columns</p>\n",
       "</div>"
      ],
      "text/plain": [
       "          id  height  weight  ap_hi  ap_lo  cholesterol  gluc  smoke  alco  \\\n",
       "224      309      76    55.0    120     80            1     1      0     0   \n",
       "1027    1432     195   111.0    148     86            1     1      0     0   \n",
       "1117    1554     198    68.0    120     80            1     1      0     0   \n",
       "2160    3049     196    74.0    140     90            1     1      1     1   \n",
       "2412    3399     138    52.0    140    100            1     1      0     0   \n",
       "...      ...     ...     ...    ...    ...          ...   ...    ...   ...   \n",
       "67972  97080     195    90.0    120     80            1     1      0     0   \n",
       "69052  98630     120    80.0    140     90            1     2      0     0   \n",
       "69124  98728     138    60.0    110     80            1     1      0     0   \n",
       "69216  98862     190    87.0    120     80            1     1      0     0   \n",
       "69589  99401     192    83.0    110     70            1     1      0     1   \n",
       "\n",
       "       active  cardio  age_range  men   height_z  \n",
       "224         1       0          2    1  10.762302  \n",
       "1027        1       1          0    1   3.732097  \n",
       "1117        1       1          2    1   4.097502  \n",
       "2160        1       1          0    1   3.853899  \n",
       "2412        1       1          2    1   3.210598  \n",
       "...       ...     ...        ...  ...        ...  \n",
       "67972       0       0          2    1   3.732097  \n",
       "69052       1       1          2    1   5.403028  \n",
       "69124       0       0          0    1   3.210598  \n",
       "69216       0       0          2    0   3.123089  \n",
       "69589       0       0          1    1   3.366692  \n",
       "\n",
       "[293 rows x 14 columns]"
      ]
     },
     "execution_count": 23,
     "metadata": {},
     "output_type": "execute_result"
    }
   ],
   "source": [
    "data[data['height_z']>=3]"
   ]
  },
  {
   "cell_type": "markdown",
   "metadata": {},
   "source": [
    "There are 293 rows with outliers of 70,000 rows(0.4%), so I drop the rows with outliers."
   ]
  },
  {
   "cell_type": "code",
   "execution_count": 24,
   "metadata": {},
   "outputs": [],
   "source": [
    "data = data[data['height_z']<3]"
   ]
  },
  {
   "cell_type": "code",
   "execution_count": 25,
   "metadata": {},
   "outputs": [],
   "source": [
    "data = data.drop('height_z',axis=1)"
   ]
  },
  {
   "cell_type": "code",
   "execution_count": 26,
   "metadata": {
    "scrolled": true
   },
   "outputs": [
    {
     "data": {
      "text/plain": [
       "<matplotlib.axes._subplots.AxesSubplot at 0x18b18b40948>"
      ]
     },
     "execution_count": 26,
     "metadata": {},
     "output_type": "execute_result"
    },
    {
     "data": {
      "image/png": "[encoded data removed]",
      "text/plain": [
       "<Figure size 432x288 with 1 Axes>"
      ]
     },
     "metadata": {
      "needs_background": "light"
     },
     "output_type": "display_data"
    }
   ],
   "source": [
    "sns.boxplot(x=data['height'])"
   ]
  },
  {
   "cell_type": "markdown",
   "metadata": {},
   "source": [
    "**4. Weight in kg**\n",
    "\n",
    "There are some outliers, so I manage this in the same way as the height column."
   ]
  },
  {
   "cell_type": "code",
   "execution_count": 27,
   "metadata": {
    "scrolled": true
   },
   "outputs": [
    {
     "data": {
      "text/plain": [
       "<matplotlib.axes._subplots.AxesSubplot at 0x18b18b91488>"
      ]
     },
     "execution_count": 27,
     "metadata": {},
     "output_type": "execute_result"
    },
    {
     "data": {
      "image/png": "[encoded data removed]",
      "text/plain": [
       "<Figure size 432x288 with 1 Axes>"
      ]
     },
     "metadata": {
      "needs_background": "light"
     },
     "output_type": "display_data"
    }
   ],
   "source": [
    "plt.figure(figsize=(6,4))\n",
    "sns.distplot(data['weight'],kde=False,bins=50)"
   ]
  },
  {
   "cell_type": "code",
   "execution_count": 28,
   "metadata": {},
   "outputs": [],
   "source": [
    "data['weight_z'] = np.abs(stats.zscore(data['weight']))"
   ]
  },
  {
   "cell_type": "code",
   "execution_count": 29,
   "metadata": {
    "scrolled": false
   },
   "outputs": [
    {
     "data": {
      "text/html": [
       "<div>\n",
       "<style scoped>\n",
       "    .dataframe tbody tr th:only-of-type {\n",
       "        vertical-align: middle;\n",
       "    }\n",
       "\n",
       "    .dataframe tbody tr th {\n",
       "        vertical-align: top;\n",
       "    }\n",
       "\n",
       "    .dataframe thead th {\n",
       "        text-align: right;\n",
       "    }\n",
       "</style>\n",
       "<table border=\"1\" class=\"dataframe\">\n",
       "  <thead>\n",
       "    <tr style=\"text-align: right;\">\n",
       "      <th></th>\n",
       "      <th>id</th>\n",
       "      <th>height</th>\n",
       "      <th>weight</th>\n",
       "      <th>ap_hi</th>\n",
       "      <th>ap_lo</th>\n",
       "      <th>cholesterol</th>\n",
       "      <th>gluc</th>\n",
       "      <th>smoke</th>\n",
       "      <th>alco</th>\n",
       "      <th>active</th>\n",
       "      <th>cardio</th>\n",
       "      <th>age_range</th>\n",
       "      <th>men</th>\n",
       "      <th>weight_z</th>\n",
       "    </tr>\n",
       "  </thead>\n",
       "  <tbody>\n",
       "    <tr>\n",
       "      <th>338</th>\n",
       "      <td>474</td>\n",
       "      <td>157</td>\n",
       "      <td>142.0</td>\n",
       "      <td>120</td>\n",
       "      <td>80</td>\n",
       "      <td>1</td>\n",
       "      <td>1</td>\n",
       "      <td>0</td>\n",
       "      <td>0</td>\n",
       "      <td>1</td>\n",
       "      <td>1</td>\n",
       "      <td>2</td>\n",
       "      <td>0</td>\n",
       "      <td>4.738489</td>\n",
       "    </tr>\n",
       "    <tr>\n",
       "      <th>389</th>\n",
       "      <td>552</td>\n",
       "      <td>165</td>\n",
       "      <td>169.0</td>\n",
       "      <td>120</td>\n",
       "      <td>80</td>\n",
       "      <td>1</td>\n",
       "      <td>1</td>\n",
       "      <td>0</td>\n",
       "      <td>0</td>\n",
       "      <td>1</td>\n",
       "      <td>0</td>\n",
       "      <td>1</td>\n",
       "      <td>1</td>\n",
       "      <td>6.624597</td>\n",
       "    </tr>\n",
       "    <tr>\n",
       "      <th>435</th>\n",
       "      <td>618</td>\n",
       "      <td>186</td>\n",
       "      <td>200.0</td>\n",
       "      <td>130</td>\n",
       "      <td>70</td>\n",
       "      <td>1</td>\n",
       "      <td>1</td>\n",
       "      <td>0</td>\n",
       "      <td>0</td>\n",
       "      <td>0</td>\n",
       "      <td>0</td>\n",
       "      <td>1</td>\n",
       "      <td>0</td>\n",
       "      <td>8.790128</td>\n",
       "    </tr>\n",
       "    <tr>\n",
       "      <th>446</th>\n",
       "      <td>634</td>\n",
       "      <td>178</td>\n",
       "      <td>120.0</td>\n",
       "      <td>160</td>\n",
       "      <td>90</td>\n",
       "      <td>1</td>\n",
       "      <td>3</td>\n",
       "      <td>0</td>\n",
       "      <td>0</td>\n",
       "      <td>1</td>\n",
       "      <td>1</td>\n",
       "      <td>2</td>\n",
       "      <td>1</td>\n",
       "      <td>3.201661</td>\n",
       "    </tr>\n",
       "    <tr>\n",
       "      <th>591</th>\n",
       "      <td>846</td>\n",
       "      <td>164</td>\n",
       "      <td>125.0</td>\n",
       "      <td>130</td>\n",
       "      <td>90</td>\n",
       "      <td>1</td>\n",
       "      <td>1</td>\n",
       "      <td>0</td>\n",
       "      <td>0</td>\n",
       "      <td>0</td>\n",
       "      <td>0</td>\n",
       "      <td>0</td>\n",
       "      <td>0</td>\n",
       "      <td>3.550940</td>\n",
       "    </tr>\n",
       "    <tr>\n",
       "      <th>...</th>\n",
       "      <td>...</td>\n",
       "      <td>...</td>\n",
       "      <td>...</td>\n",
       "      <td>...</td>\n",
       "      <td>...</td>\n",
       "      <td>...</td>\n",
       "      <td>...</td>\n",
       "      <td>...</td>\n",
       "      <td>...</td>\n",
       "      <td>...</td>\n",
       "      <td>...</td>\n",
       "      <td>...</td>\n",
       "      <td>...</td>\n",
       "      <td>...</td>\n",
       "    </tr>\n",
       "    <tr>\n",
       "      <th>69012</th>\n",
       "      <td>98584</td>\n",
       "      <td>170</td>\n",
       "      <td>123.0</td>\n",
       "      <td>130</td>\n",
       "      <td>90</td>\n",
       "      <td>1</td>\n",
       "      <td>1</td>\n",
       "      <td>0</td>\n",
       "      <td>0</td>\n",
       "      <td>1</td>\n",
       "      <td>0</td>\n",
       "      <td>1</td>\n",
       "      <td>0</td>\n",
       "      <td>3.411228</td>\n",
       "    </tr>\n",
       "    <tr>\n",
       "      <th>69060</th>\n",
       "      <td>98640</td>\n",
       "      <td>163</td>\n",
       "      <td>119.0</td>\n",
       "      <td>160</td>\n",
       "      <td>90</td>\n",
       "      <td>1</td>\n",
       "      <td>1</td>\n",
       "      <td>0</td>\n",
       "      <td>0</td>\n",
       "      <td>1</td>\n",
       "      <td>1</td>\n",
       "      <td>1</td>\n",
       "      <td>0</td>\n",
       "      <td>3.131805</td>\n",
       "    </tr>\n",
       "    <tr>\n",
       "      <th>69109</th>\n",
       "      <td>98709</td>\n",
       "      <td>175</td>\n",
       "      <td>155.0</td>\n",
       "      <td>110</td>\n",
       "      <td>100</td>\n",
       "      <td>1</td>\n",
       "      <td>1</td>\n",
       "      <td>0</td>\n",
       "      <td>0</td>\n",
       "      <td>1</td>\n",
       "      <td>1</td>\n",
       "      <td>1</td>\n",
       "      <td>1</td>\n",
       "      <td>5.646615</td>\n",
       "    </tr>\n",
       "    <tr>\n",
       "      <th>69440</th>\n",
       "      <td>99182</td>\n",
       "      <td>180</td>\n",
       "      <td>123.0</td>\n",
       "      <td>190</td>\n",
       "      <td>99</td>\n",
       "      <td>2</td>\n",
       "      <td>1</td>\n",
       "      <td>0</td>\n",
       "      <td>0</td>\n",
       "      <td>0</td>\n",
       "      <td>1</td>\n",
       "      <td>2</td>\n",
       "      <td>1</td>\n",
       "      <td>3.411228</td>\n",
       "    </tr>\n",
       "    <tr>\n",
       "      <th>69996</th>\n",
       "      <td>99995</td>\n",
       "      <td>158</td>\n",
       "      <td>126.0</td>\n",
       "      <td>140</td>\n",
       "      <td>90</td>\n",
       "      <td>2</td>\n",
       "      <td>2</td>\n",
       "      <td>0</td>\n",
       "      <td>0</td>\n",
       "      <td>1</td>\n",
       "      <td>1</td>\n",
       "      <td>2</td>\n",
       "      <td>0</td>\n",
       "      <td>3.620796</td>\n",
       "    </tr>\n",
       "  </tbody>\n",
       "</table>\n",
       "<p>679 rows × 14 columns</p>\n",
       "</div>"
      ],
      "text/plain": [
       "          id  height  weight  ap_hi  ap_lo  cholesterol  gluc  smoke  alco  \\\n",
       "338      474     157   142.0    120     80            1     1      0     0   \n",
       "389      552     165   169.0    120     80            1     1      0     0   \n",
       "435      618     186   200.0    130     70            1     1      0     0   \n",
       "446      634     178   120.0    160     90            1     3      0     0   \n",
       "591      846     164   125.0    130     90            1     1      0     0   \n",
       "...      ...     ...     ...    ...    ...          ...   ...    ...   ...   \n",
       "69012  98584     170   123.0    130     90            1     1      0     0   \n",
       "69060  98640     163   119.0    160     90            1     1      0     0   \n",
       "69109  98709     175   155.0    110    100            1     1      0     0   \n",
       "69440  99182     180   123.0    190     99            2     1      0     0   \n",
       "69996  99995     158   126.0    140     90            2     2      0     0   \n",
       "\n",
       "       active  cardio  age_range  men  weight_z  \n",
       "338         1       1          2    0  4.738489  \n",
       "389         1       0          1    1  6.624597  \n",
       "435         0       0          1    0  8.790128  \n",
       "446         1       1          2    1  3.201661  \n",
       "591         0       0          0    0  3.550940  \n",
       "...       ...     ...        ...  ...       ...  \n",
       "69012       1       0          1    0  3.411228  \n",
       "69060       1       1          1    0  3.131805  \n",
       "69109       1       1          1    1  5.646615  \n",
       "69440       0       1          2    1  3.411228  \n",
       "69996       1       1          2    0  3.620796  \n",
       "\n",
       "[679 rows x 14 columns]"
      ]
     },
     "execution_count": 29,
     "metadata": {},
     "output_type": "execute_result"
    }
   ],
   "source": [
    "data[data['weight_z']>=3]"
   ]
  },
  {
   "cell_type": "markdown",
   "metadata": {},
   "source": [
    "There are 679 rows with outliers of 69,707 rows(0.9%), so I drop the rows with outliers"
   ]
  },
  {
   "cell_type": "code",
   "execution_count": 30,
   "metadata": {},
   "outputs": [],
   "source": [
    "data = data[data['weight_z']<3]"
   ]
  },
  {
   "cell_type": "code",
   "execution_count": 31,
   "metadata": {},
   "outputs": [],
   "source": [
    "data = data.drop('weight_z',axis=1)"
   ]
  },
  {
   "cell_type": "markdown",
   "metadata": {},
   "source": [
    "**5. Systolic Blood pressure (ap_hi)**"
   ]
  },
  {
   "cell_type": "code",
   "execution_count": 32,
   "metadata": {
    "scrolled": true
   },
   "outputs": [
    {
     "data": {
      "text/plain": [
       "<matplotlib.axes._subplots.AxesSubplot at 0x18b18ca04c8>"
      ]
     },
     "execution_count": 32,
     "metadata": {},
     "output_type": "execute_result"
    },
    {
     "data": {
      "image/png": "[encoded data removed]",
      "text/plain": [
       "<Figure size 432x288 with 1 Axes>"
      ]
     },
     "metadata": {
      "needs_background": "light"
     },
     "output_type": "display_data"
    }
   ],
   "source": [
    "sns.boxplot(x=data['ap_hi'])"
   ]
  },
  {
   "cell_type": "markdown",
   "metadata": {},
   "source": [
    "**Inspect some impossible data**\n",
    "\n",
    "People with systolic blood pressure more than 200 are more likely to be critically ill, not compatible with the setting in which data collected. \n",
    "And systolic blood pressure more than 300 more likely to be wrong input.\n",
    "\n",
    "Systolic blood pressures below 80 are seen in children, but data is collected in adults more than 29 years old."
   ]
  },
  {
   "cell_type": "code",
   "execution_count": 33,
   "metadata": {},
   "outputs": [
    {
     "data": {
      "text/plain": [
       "1328      220\n",
       "1876      902\n",
       "2014      906\n",
       "2142      210\n",
       "2278      220\n",
       "         ... \n",
       "67710     240\n",
       "68579     220\n",
       "68663     906\n",
       "69329     240\n",
       "69370    2000\n",
       "Name: ap_hi, Length: 99, dtype: int64"
      ]
     },
     "execution_count": 33,
     "metadata": {},
     "output_type": "execute_result"
    }
   ],
   "source": [
    "data[data['ap_hi']>200]['ap_hi']"
   ]
  },
  {
   "cell_type": "code",
   "execution_count": 34,
   "metadata": {
    "scrolled": false
   },
   "outputs": [
    {
     "data": {
      "text/plain": [
       "567      14\n",
       "636      70\n",
       "927      14\n",
       "979      11\n",
       "1600     12\n",
       "         ..\n",
       "68630    12\n",
       "68742    14\n",
       "68998    14\n",
       "69137    12\n",
       "69549    13\n",
       "Name: ap_hi, Length: 204, dtype: int64"
      ]
     },
     "execution_count": 34,
     "metadata": {},
     "output_type": "execute_result"
    }
   ],
   "source": [
    "data[data['ap_hi']<80]['ap_hi']"
   ]
  },
  {
   "cell_type": "markdown",
   "metadata": {},
   "source": [
    "There are 303 rows with outliers of 69,028 rows(0.4%), so I drop the rows with outliers"
   ]
  },
  {
   "cell_type": "code",
   "execution_count": 35,
   "metadata": {},
   "outputs": [],
   "source": [
    "data = data[(data['ap_hi']>= 80) & (data['ap_hi']<= 200)]"
   ]
  },
  {
   "cell_type": "code",
   "execution_count": 36,
   "metadata": {},
   "outputs": [
    {
     "data": {
      "text/plain": [
       "<matplotlib.axes._subplots.AxesSubplot at 0x18b18d0be48>"
      ]
     },
     "execution_count": 36,
     "metadata": {},
     "output_type": "execute_result"
    },
    {
     "data": {
      "image/png": "[encoded data removed]",
      "text/plain": [
       "<Figure size 432x288 with 1 Axes>"
      ]
     },
     "metadata": {
      "needs_background": "light"
     },
     "output_type": "display_data"
    }
   ],
   "source": [
    "plt.figure(figsize=(6,4))\n",
    "sns.distplot(data['ap_hi'],kde=False,bins=30)"
   ]
  },
  {
   "cell_type": "markdown",
   "metadata": {},
   "source": [
    "**6. Diastolic Blood pressure (ap_lo)**"
   ]
  },
  {
   "cell_type": "code",
   "execution_count": 37,
   "metadata": {
    "scrolled": true
   },
   "outputs": [
    {
     "data": {
      "text/plain": [
       "<matplotlib.axes._subplots.AxesSubplot at 0x18b18dbfa48>"
      ]
     },
     "execution_count": 37,
     "metadata": {},
     "output_type": "execute_result"
    },
    {
     "data": {
      "image/png": "[encoded data removed]",
      "text/plain": [
       "<Figure size 432x288 with 1 Axes>"
      ]
     },
     "metadata": {
      "needs_background": "light"
     },
     "output_type": "display_data"
    }
   ],
   "source": [
    "plt.figure(figsize=(6,4))\n",
    "sns.distplot(data['ap_lo'],kde=False,bins=100)"
   ]
  },
  {
   "cell_type": "markdown",
   "metadata": {},
   "source": [
    "**Consider impossible value**\n",
    "1. Diastolic blood pressure <0\n",
    "\n",
    "There are some rows with diastolic blood pressure below 0, but they were dropped in the previous cell."
   ]
  },
  {
   "cell_type": "code",
   "execution_count": 38,
   "metadata": {},
   "outputs": [
    {
     "data": {
      "text/html": [
       "<div>\n",
       "<style scoped>\n",
       "    .dataframe tbody tr th:only-of-type {\n",
       "        vertical-align: middle;\n",
       "    }\n",
       "\n",
       "    .dataframe tbody tr th {\n",
       "        vertical-align: top;\n",
       "    }\n",
       "\n",
       "    .dataframe thead th {\n",
       "        text-align: right;\n",
       "    }\n",
       "</style>\n",
       "<table border=\"1\" class=\"dataframe\">\n",
       "  <thead>\n",
       "    <tr style=\"text-align: right;\">\n",
       "      <th></th>\n",
       "      <th>id</th>\n",
       "      <th>height</th>\n",
       "      <th>weight</th>\n",
       "      <th>ap_hi</th>\n",
       "      <th>ap_lo</th>\n",
       "      <th>cholesterol</th>\n",
       "      <th>gluc</th>\n",
       "      <th>smoke</th>\n",
       "      <th>alco</th>\n",
       "      <th>active</th>\n",
       "      <th>cardio</th>\n",
       "      <th>age_range</th>\n",
       "      <th>men</th>\n",
       "    </tr>\n",
       "  </thead>\n",
       "  <tbody>\n",
       "  </tbody>\n",
       "</table>\n",
       "</div>"
      ],
      "text/plain": [
       "Empty DataFrame\n",
       "Columns: [id, height, weight, ap_hi, ap_lo, cholesterol, gluc, smoke, alco, active, cardio, age_range, men]\n",
       "Index: []"
      ]
     },
     "execution_count": 38,
     "metadata": {},
     "output_type": "execute_result"
    }
   ],
   "source": [
    "data[data['ap_lo']<0]"
   ]
  },
  {
   "cell_type": "markdown",
   "metadata": {},
   "source": [
    "2. Diastolic blood pressure > Systolic blood pressure \n",
    "\n",
    "Individuals cannot have diastolic blood pressure more than systolic blood pressure."
   ]
  },
  {
   "cell_type": "code",
   "execution_count": 39,
   "metadata": {
    "scrolled": false
   },
   "outputs": [
    {
     "data": {
      "text/html": [
       "<div>\n",
       "<style scoped>\n",
       "    .dataframe tbody tr th:only-of-type {\n",
       "        vertical-align: middle;\n",
       "    }\n",
       "\n",
       "    .dataframe tbody tr th {\n",
       "        vertical-align: top;\n",
       "    }\n",
       "\n",
       "    .dataframe thead th {\n",
       "        text-align: right;\n",
       "    }\n",
       "</style>\n",
       "<table border=\"1\" class=\"dataframe\">\n",
       "  <thead>\n",
       "    <tr style=\"text-align: right;\">\n",
       "      <th></th>\n",
       "      <th>id</th>\n",
       "      <th>height</th>\n",
       "      <th>weight</th>\n",
       "      <th>ap_hi</th>\n",
       "      <th>ap_lo</th>\n",
       "      <th>cholesterol</th>\n",
       "      <th>gluc</th>\n",
       "      <th>smoke</th>\n",
       "      <th>alco</th>\n",
       "      <th>active</th>\n",
       "      <th>cardio</th>\n",
       "      <th>age_range</th>\n",
       "      <th>men</th>\n",
       "    </tr>\n",
       "  </thead>\n",
       "  <tbody>\n",
       "    <tr>\n",
       "      <th>228</th>\n",
       "      <td>314</td>\n",
       "      <td>183</td>\n",
       "      <td>98.0</td>\n",
       "      <td>160</td>\n",
       "      <td>1100</td>\n",
       "      <td>1</td>\n",
       "      <td>2</td>\n",
       "      <td>1</td>\n",
       "      <td>0</td>\n",
       "      <td>1</td>\n",
       "      <td>1</td>\n",
       "      <td>1</td>\n",
       "      <td>1</td>\n",
       "    </tr>\n",
       "    <tr>\n",
       "      <th>241</th>\n",
       "      <td>334</td>\n",
       "      <td>157</td>\n",
       "      <td>60.0</td>\n",
       "      <td>160</td>\n",
       "      <td>1000</td>\n",
       "      <td>2</td>\n",
       "      <td>1</td>\n",
       "      <td>0</td>\n",
       "      <td>0</td>\n",
       "      <td>0</td>\n",
       "      <td>1</td>\n",
       "      <td>2</td>\n",
       "      <td>1</td>\n",
       "    </tr>\n",
       "    <tr>\n",
       "      <th>260</th>\n",
       "      <td>357</td>\n",
       "      <td>150</td>\n",
       "      <td>83.0</td>\n",
       "      <td>140</td>\n",
       "      <td>800</td>\n",
       "      <td>1</td>\n",
       "      <td>1</td>\n",
       "      <td>0</td>\n",
       "      <td>0</td>\n",
       "      <td>1</td>\n",
       "      <td>1</td>\n",
       "      <td>1</td>\n",
       "      <td>0</td>\n",
       "    </tr>\n",
       "    <tr>\n",
       "      <th>329</th>\n",
       "      <td>458</td>\n",
       "      <td>176</td>\n",
       "      <td>63.0</td>\n",
       "      <td>160</td>\n",
       "      <td>1000</td>\n",
       "      <td>2</td>\n",
       "      <td>2</td>\n",
       "      <td>0</td>\n",
       "      <td>0</td>\n",
       "      <td>0</td>\n",
       "      <td>1</td>\n",
       "      <td>2</td>\n",
       "      <td>0</td>\n",
       "    </tr>\n",
       "    <tr>\n",
       "      <th>345</th>\n",
       "      <td>482</td>\n",
       "      <td>154</td>\n",
       "      <td>81.0</td>\n",
       "      <td>140</td>\n",
       "      <td>1000</td>\n",
       "      <td>2</td>\n",
       "      <td>1</td>\n",
       "      <td>0</td>\n",
       "      <td>0</td>\n",
       "      <td>1</td>\n",
       "      <td>1</td>\n",
       "      <td>1</td>\n",
       "      <td>0</td>\n",
       "    </tr>\n",
       "    <tr>\n",
       "      <th>...</th>\n",
       "      <td>...</td>\n",
       "      <td>...</td>\n",
       "      <td>...</td>\n",
       "      <td>...</td>\n",
       "      <td>...</td>\n",
       "      <td>...</td>\n",
       "      <td>...</td>\n",
       "      <td>...</td>\n",
       "      <td>...</td>\n",
       "      <td>...</td>\n",
       "      <td>...</td>\n",
       "      <td>...</td>\n",
       "      <td>...</td>\n",
       "    </tr>\n",
       "    <tr>\n",
       "      <th>69771</th>\n",
       "      <td>99659</td>\n",
       "      <td>167</td>\n",
       "      <td>81.0</td>\n",
       "      <td>160</td>\n",
       "      <td>1000</td>\n",
       "      <td>1</td>\n",
       "      <td>1</td>\n",
       "      <td>0</td>\n",
       "      <td>0</td>\n",
       "      <td>1</td>\n",
       "      <td>1</td>\n",
       "      <td>2</td>\n",
       "      <td>0</td>\n",
       "    </tr>\n",
       "    <tr>\n",
       "      <th>69872</th>\n",
       "      <td>99798</td>\n",
       "      <td>152</td>\n",
       "      <td>56.0</td>\n",
       "      <td>160</td>\n",
       "      <td>1000</td>\n",
       "      <td>1</td>\n",
       "      <td>1</td>\n",
       "      <td>0</td>\n",
       "      <td>0</td>\n",
       "      <td>1</td>\n",
       "      <td>1</td>\n",
       "      <td>2</td>\n",
       "      <td>0</td>\n",
       "    </tr>\n",
       "    <tr>\n",
       "      <th>69878</th>\n",
       "      <td>99807</td>\n",
       "      <td>168</td>\n",
       "      <td>95.0</td>\n",
       "      <td>160</td>\n",
       "      <td>1000</td>\n",
       "      <td>1</td>\n",
       "      <td>1</td>\n",
       "      <td>0</td>\n",
       "      <td>0</td>\n",
       "      <td>1</td>\n",
       "      <td>1</td>\n",
       "      <td>2</td>\n",
       "      <td>1</td>\n",
       "    </tr>\n",
       "    <tr>\n",
       "      <th>69885</th>\n",
       "      <td>99816</td>\n",
       "      <td>166</td>\n",
       "      <td>78.0</td>\n",
       "      <td>170</td>\n",
       "      <td>1000</td>\n",
       "      <td>1</td>\n",
       "      <td>1</td>\n",
       "      <td>0</td>\n",
       "      <td>0</td>\n",
       "      <td>0</td>\n",
       "      <td>0</td>\n",
       "      <td>2</td>\n",
       "      <td>1</td>\n",
       "    </tr>\n",
       "    <tr>\n",
       "      <th>69967</th>\n",
       "      <td>99955</td>\n",
       "      <td>168</td>\n",
       "      <td>63.0</td>\n",
       "      <td>140</td>\n",
       "      <td>1000</td>\n",
       "      <td>1</td>\n",
       "      <td>1</td>\n",
       "      <td>0</td>\n",
       "      <td>0</td>\n",
       "      <td>1</td>\n",
       "      <td>1</td>\n",
       "      <td>2</td>\n",
       "      <td>1</td>\n",
       "    </tr>\n",
       "  </tbody>\n",
       "</table>\n",
       "<p>998 rows × 13 columns</p>\n",
       "</div>"
      ],
      "text/plain": [
       "          id  height  weight  ap_hi  ap_lo  cholesterol  gluc  smoke  alco  \\\n",
       "228      314     183    98.0    160   1100            1     2      1     0   \n",
       "241      334     157    60.0    160   1000            2     1      0     0   \n",
       "260      357     150    83.0    140    800            1     1      0     0   \n",
       "329      458     176    63.0    160   1000            2     2      0     0   \n",
       "345      482     154    81.0    140   1000            2     1      0     0   \n",
       "...      ...     ...     ...    ...    ...          ...   ...    ...   ...   \n",
       "69771  99659     167    81.0    160   1000            1     1      0     0   \n",
       "69872  99798     152    56.0    160   1000            1     1      0     0   \n",
       "69878  99807     168    95.0    160   1000            1     1      0     0   \n",
       "69885  99816     166    78.0    170   1000            1     1      0     0   \n",
       "69967  99955     168    63.0    140   1000            1     1      0     0   \n",
       "\n",
       "       active  cardio  age_range  men  \n",
       "228         1       1          1    1  \n",
       "241         0       1          2    1  \n",
       "260         1       1          1    0  \n",
       "329         0       1          2    0  \n",
       "345         1       1          1    0  \n",
       "...       ...     ...        ...  ...  \n",
       "69771       1       1          2    0  \n",
       "69872       1       1          2    0  \n",
       "69878       1       1          2    1  \n",
       "69885       0       0          2    1  \n",
       "69967       1       1          2    1  \n",
       "\n",
       "[998 rows x 13 columns]"
      ]
     },
     "execution_count": 39,
     "metadata": {},
     "output_type": "execute_result"
    }
   ],
   "source": [
    "data[data['ap_lo'] > data['ap_hi']]"
   ]
  },
  {
   "cell_type": "code",
   "execution_count": 40,
   "metadata": {},
   "outputs": [],
   "source": [
    "data = data[data['ap_lo'] < data['ap_hi']]"
   ]
  },
  {
   "cell_type": "markdown",
   "metadata": {},
   "source": [
    "3. Extremely low diastolic blood pressure\n",
    "\n",
    "Diastolic blood pressures below 40 are founded in children, but the data is collected in adults more than 29 years old."
   ]
  },
  {
   "cell_type": "code",
   "execution_count": 41,
   "metadata": {},
   "outputs": [
    {
     "data": {
      "text/plain": [
       "20    14\n",
       "0     12\n",
       "30     6\n",
       "10     6\n",
       "7      2\n",
       "6      2\n",
       "9      1\n",
       "1      1\n",
       "Name: ap_lo, dtype: int64"
      ]
     },
     "execution_count": 41,
     "metadata": {},
     "output_type": "execute_result"
    }
   ],
   "source": [
    "data[data['ap_lo']<40]['ap_lo'].value_counts()"
   ]
  },
  {
   "cell_type": "code",
   "execution_count": 42,
   "metadata": {},
   "outputs": [],
   "source": [
    "data = data[data['ap_lo']>40]"
   ]
  },
  {
   "cell_type": "markdown",
   "metadata": {},
   "source": [
    "**7. Cholesterol**\n",
    "\n",
    "Ordinal column\n",
    "\n",
    "(1 - normal; 2 - above normal; 3 - well above normal)"
   ]
  },
  {
   "cell_type": "code",
   "execution_count": 43,
   "metadata": {},
   "outputs": [
    {
     "data": {
      "text/plain": [
       "<matplotlib.axes._subplots.AxesSubplot at 0x18b18f2db88>"
      ]
     },
     "execution_count": 43,
     "metadata": {},
     "output_type": "execute_result"
    },
    {
     "data": {
      "image/png": "[encoded data removed]",
      "text/plain": [
       "<Figure size 432x288 with 1 Axes>"
      ]
     },
     "metadata": {
      "needs_background": "light"
     },
     "output_type": "display_data"
    }
   ],
   "source": [
    "sns.countplot('cholesterol',data=data)"
   ]
  },
  {
   "cell_type": "markdown",
   "metadata": {},
   "source": [
    "**8. gluc : glucose**\n",
    "\n",
    "Ordinal column\n",
    "\n",
    "(1 - normal; 2 - above normal; 3 - well above normal)"
   ]
  },
  {
   "cell_type": "code",
   "execution_count": 44,
   "metadata": {},
   "outputs": [
    {
     "data": {
      "text/plain": [
       "<matplotlib.axes._subplots.AxesSubplot at 0x18b1bbbd1c8>"
      ]
     },
     "execution_count": 44,
     "metadata": {},
     "output_type": "execute_result"
    },
    {
     "data": {
      "image/png": "[encoded data removed]",
      "text/plain": [
       "<Figure size 432x288 with 1 Axes>"
      ]
     },
     "metadata": {
      "needs_background": "light"
     },
     "output_type": "display_data"
    }
   ],
   "source": [
    "sns.countplot('gluc',data=data)"
   ]
  },
  {
   "cell_type": "markdown",
   "metadata": {},
   "source": [
    "**9. smoke**\n",
    "\n",
    "Categorical column\n",
    "\n",
    "(whether patient smokes or not(0 - no; 1 - yes))"
   ]
  },
  {
   "cell_type": "code",
   "execution_count": 45,
   "metadata": {},
   "outputs": [
    {
     "data": {
      "text/plain": [
       "0    61764\n",
       "1     5907\n",
       "Name: smoke, dtype: int64"
      ]
     },
     "execution_count": 45,
     "metadata": {},
     "output_type": "execute_result"
    }
   ],
   "source": [
    "data['smoke'].value_counts()"
   ]
  },
  {
   "cell_type": "code",
   "execution_count": 46,
   "metadata": {},
   "outputs": [
    {
     "data": {
      "text/plain": [
       "<matplotlib.axes._subplots.AxesSubplot at 0x18b1bbe78c8>"
      ]
     },
     "execution_count": 46,
     "metadata": {},
     "output_type": "execute_result"
    },
    {
     "data": {
      "image/png": "[encoded data removed]",
      "text/plain": [
       "<Figure size 432x288 with 1 Axes>"
      ]
     },
     "metadata": {
      "needs_background": "light"
     },
     "output_type": "display_data"
    }
   ],
   "source": [
    "sns.countplot('smoke',data=data)"
   ]
  },
  {
   "cell_type": "markdown",
   "metadata": {},
   "source": [
    "**10.Alcohol (alco)**\n",
    "\n",
    "Categorical column\n",
    "\n",
    "Alcohol intake (0 - no; 1 - yes)"
   ]
  },
  {
   "cell_type": "code",
   "execution_count": 47,
   "metadata": {},
   "outputs": [
    {
     "data": {
      "text/plain": [
       "0    64091\n",
       "1     3580\n",
       "Name: alco, dtype: int64"
      ]
     },
     "execution_count": 47,
     "metadata": {},
     "output_type": "execute_result"
    }
   ],
   "source": [
    "data['alco'].value_counts()"
   ]
  },
  {
   "cell_type": "code",
   "execution_count": 48,
   "metadata": {},
   "outputs": [
    {
     "data": {
      "text/plain": [
       "<matplotlib.axes._subplots.AxesSubplot at 0x18b1bc863c8>"
      ]
     },
     "execution_count": 48,
     "metadata": {},
     "output_type": "execute_result"
    },
    {
     "data": {
      "image/png": "[encoded data removed]",
      "text/plain": [
       "<Figure size 432x288 with 1 Axes>"
      ]
     },
     "metadata": {
      "needs_background": "light"
     },
     "output_type": "display_data"
    }
   ],
   "source": [
    "sns.countplot('alco',data=data)"
   ]
  },
  {
   "cell_type": "markdown",
   "metadata": {},
   "source": [
    "**11. Physical activity (Active)**\n",
    "\n",
    "Categorical column\n",
    "\n",
    "(0 - passive life, 1 - active life)"
   ]
  },
  {
   "cell_type": "code",
   "execution_count": 49,
   "metadata": {
    "scrolled": false
   },
   "outputs": [
    {
     "data": {
      "text/plain": [
       "1    54396\n",
       "0    13275\n",
       "Name: active, dtype: int64"
      ]
     },
     "execution_count": 49,
     "metadata": {},
     "output_type": "execute_result"
    }
   ],
   "source": [
    "data['active'].value_counts()"
   ]
  },
  {
   "cell_type": "code",
   "execution_count": 50,
   "metadata": {
    "scrolled": true
   },
   "outputs": [
    {
     "data": {
      "text/plain": [
       "<matplotlib.axes._subplots.AxesSubplot at 0x18b1bc9d708>"
      ]
     },
     "execution_count": 50,
     "metadata": {},
     "output_type": "execute_result"
    },
    {
     "data": {
      "image/png": "[encoded data removed]",
      "text/plain": [
       "<Figure size 432x288 with 1 Axes>"
      ]
     },
     "metadata": {
      "needs_background": "light"
     },
     "output_type": "display_data"
    }
   ],
   "source": [
    "sns.countplot('active',data=data)"
   ]
  },
  {
   "cell_type": "markdown",
   "metadata": {},
   "source": [
    "# Reevaluate after data preprocessing"
   ]
  },
  {
   "cell_type": "code",
   "execution_count": 51,
   "metadata": {},
   "outputs": [
    {
     "data": {
      "text/html": [
       "<div>\n",
       "<style scoped>\n",
       "    .dataframe tbody tr th:only-of-type {\n",
       "        vertical-align: middle;\n",
       "    }\n",
       "\n",
       "    .dataframe tbody tr th {\n",
       "        vertical-align: top;\n",
       "    }\n",
       "\n",
       "    .dataframe thead th {\n",
       "        text-align: right;\n",
       "    }\n",
       "</style>\n",
       "<table border=\"1\" class=\"dataframe\">\n",
       "  <thead>\n",
       "    <tr style=\"text-align: right;\">\n",
       "      <th></th>\n",
       "      <th>id</th>\n",
       "      <th>height</th>\n",
       "      <th>weight</th>\n",
       "      <th>ap_hi</th>\n",
       "      <th>ap_lo</th>\n",
       "      <th>cholesterol</th>\n",
       "      <th>gluc</th>\n",
       "      <th>smoke</th>\n",
       "      <th>alco</th>\n",
       "      <th>active</th>\n",
       "      <th>cardio</th>\n",
       "      <th>age_range</th>\n",
       "      <th>men</th>\n",
       "    </tr>\n",
       "  </thead>\n",
       "  <tbody>\n",
       "    <tr>\n",
       "      <th>0</th>\n",
       "      <td>0</td>\n",
       "      <td>168</td>\n",
       "      <td>62.0</td>\n",
       "      <td>110</td>\n",
       "      <td>80</td>\n",
       "      <td>1</td>\n",
       "      <td>1</td>\n",
       "      <td>0</td>\n",
       "      <td>0</td>\n",
       "      <td>1</td>\n",
       "      <td>0</td>\n",
       "      <td>1</td>\n",
       "      <td>1</td>\n",
       "    </tr>\n",
       "    <tr>\n",
       "      <th>1</th>\n",
       "      <td>1</td>\n",
       "      <td>156</td>\n",
       "      <td>85.0</td>\n",
       "      <td>140</td>\n",
       "      <td>90</td>\n",
       "      <td>3</td>\n",
       "      <td>1</td>\n",
       "      <td>0</td>\n",
       "      <td>0</td>\n",
       "      <td>1</td>\n",
       "      <td>1</td>\n",
       "      <td>2</td>\n",
       "      <td>0</td>\n",
       "    </tr>\n",
       "    <tr>\n",
       "      <th>2</th>\n",
       "      <td>2</td>\n",
       "      <td>165</td>\n",
       "      <td>64.0</td>\n",
       "      <td>130</td>\n",
       "      <td>70</td>\n",
       "      <td>3</td>\n",
       "      <td>1</td>\n",
       "      <td>0</td>\n",
       "      <td>0</td>\n",
       "      <td>0</td>\n",
       "      <td>1</td>\n",
       "      <td>1</td>\n",
       "      <td>0</td>\n",
       "    </tr>\n",
       "    <tr>\n",
       "      <th>3</th>\n",
       "      <td>3</td>\n",
       "      <td>169</td>\n",
       "      <td>82.0</td>\n",
       "      <td>150</td>\n",
       "      <td>100</td>\n",
       "      <td>1</td>\n",
       "      <td>1</td>\n",
       "      <td>0</td>\n",
       "      <td>0</td>\n",
       "      <td>1</td>\n",
       "      <td>1</td>\n",
       "      <td>1</td>\n",
       "      <td>1</td>\n",
       "    </tr>\n",
       "    <tr>\n",
       "      <th>4</th>\n",
       "      <td>4</td>\n",
       "      <td>156</td>\n",
       "      <td>56.0</td>\n",
       "      <td>100</td>\n",
       "      <td>60</td>\n",
       "      <td>1</td>\n",
       "      <td>1</td>\n",
       "      <td>0</td>\n",
       "      <td>0</td>\n",
       "      <td>0</td>\n",
       "      <td>0</td>\n",
       "      <td>1</td>\n",
       "      <td>0</td>\n",
       "    </tr>\n",
       "    <tr>\n",
       "      <th>...</th>\n",
       "      <td>...</td>\n",
       "      <td>...</td>\n",
       "      <td>...</td>\n",
       "      <td>...</td>\n",
       "      <td>...</td>\n",
       "      <td>...</td>\n",
       "      <td>...</td>\n",
       "      <td>...</td>\n",
       "      <td>...</td>\n",
       "      <td>...</td>\n",
       "      <td>...</td>\n",
       "      <td>...</td>\n",
       "      <td>...</td>\n",
       "    </tr>\n",
       "    <tr>\n",
       "      <th>69994</th>\n",
       "      <td>99992</td>\n",
       "      <td>165</td>\n",
       "      <td>80.0</td>\n",
       "      <td>150</td>\n",
       "      <td>80</td>\n",
       "      <td>1</td>\n",
       "      <td>1</td>\n",
       "      <td>0</td>\n",
       "      <td>0</td>\n",
       "      <td>1</td>\n",
       "      <td>1</td>\n",
       "      <td>2</td>\n",
       "      <td>0</td>\n",
       "    </tr>\n",
       "    <tr>\n",
       "      <th>69995</th>\n",
       "      <td>99993</td>\n",
       "      <td>168</td>\n",
       "      <td>76.0</td>\n",
       "      <td>120</td>\n",
       "      <td>80</td>\n",
       "      <td>1</td>\n",
       "      <td>1</td>\n",
       "      <td>1</td>\n",
       "      <td>0</td>\n",
       "      <td>1</td>\n",
       "      <td>0</td>\n",
       "      <td>1</td>\n",
       "      <td>1</td>\n",
       "    </tr>\n",
       "    <tr>\n",
       "      <th>69997</th>\n",
       "      <td>99996</td>\n",
       "      <td>183</td>\n",
       "      <td>105.0</td>\n",
       "      <td>180</td>\n",
       "      <td>90</td>\n",
       "      <td>3</td>\n",
       "      <td>1</td>\n",
       "      <td>0</td>\n",
       "      <td>1</td>\n",
       "      <td>0</td>\n",
       "      <td>1</td>\n",
       "      <td>1</td>\n",
       "      <td>1</td>\n",
       "    </tr>\n",
       "    <tr>\n",
       "      <th>69998</th>\n",
       "      <td>99998</td>\n",
       "      <td>163</td>\n",
       "      <td>72.0</td>\n",
       "      <td>135</td>\n",
       "      <td>80</td>\n",
       "      <td>1</td>\n",
       "      <td>2</td>\n",
       "      <td>0</td>\n",
       "      <td>0</td>\n",
       "      <td>0</td>\n",
       "      <td>1</td>\n",
       "      <td>2</td>\n",
       "      <td>0</td>\n",
       "    </tr>\n",
       "    <tr>\n",
       "      <th>69999</th>\n",
       "      <td>99999</td>\n",
       "      <td>170</td>\n",
       "      <td>72.0</td>\n",
       "      <td>120</td>\n",
       "      <td>80</td>\n",
       "      <td>2</td>\n",
       "      <td>1</td>\n",
       "      <td>0</td>\n",
       "      <td>0</td>\n",
       "      <td>1</td>\n",
       "      <td>0</td>\n",
       "      <td>2</td>\n",
       "      <td>0</td>\n",
       "    </tr>\n",
       "  </tbody>\n",
       "</table>\n",
       "<p>67671 rows × 13 columns</p>\n",
       "</div>"
      ],
      "text/plain": [
       "          id  height  weight  ap_hi  ap_lo  cholesterol  gluc  smoke  alco  \\\n",
       "0          0     168    62.0    110     80            1     1      0     0   \n",
       "1          1     156    85.0    140     90            3     1      0     0   \n",
       "2          2     165    64.0    130     70            3     1      0     0   \n",
       "3          3     169    82.0    150    100            1     1      0     0   \n",
       "4          4     156    56.0    100     60            1     1      0     0   \n",
       "...      ...     ...     ...    ...    ...          ...   ...    ...   ...   \n",
       "69994  99992     165    80.0    150     80            1     1      0     0   \n",
       "69995  99993     168    76.0    120     80            1     1      1     0   \n",
       "69997  99996     183   105.0    180     90            3     1      0     1   \n",
       "69998  99998     163    72.0    135     80            1     2      0     0   \n",
       "69999  99999     170    72.0    120     80            2     1      0     0   \n",
       "\n",
       "       active  cardio  age_range  men  \n",
       "0           1       0          1    1  \n",
       "1           1       1          2    0  \n",
       "2           0       1          1    0  \n",
       "3           1       1          1    1  \n",
       "4           0       0          1    0  \n",
       "...       ...     ...        ...  ...  \n",
       "69994       1       1          2    0  \n",
       "69995       1       0          1    1  \n",
       "69997       0       1          1    1  \n",
       "69998       0       1          2    0  \n",
       "69999       1       0          2    0  \n",
       "\n",
       "[67671 rows x 13 columns]"
      ]
     },
     "execution_count": 51,
     "metadata": {},
     "output_type": "execute_result"
    }
   ],
   "source": [
    "data"
   ]
  },
  {
   "cell_type": "code",
   "execution_count": 52,
   "metadata": {
    "scrolled": false
   },
   "outputs": [
    {
     "data": {
      "text/plain": [
       "<matplotlib.axes._subplots.AxesSubplot at 0x18b1bd5c8c8>"
      ]
     },
     "execution_count": 52,
     "metadata": {},
     "output_type": "execute_result"
    },
    {
     "data": {
      "image/png": "[encoded data removed]",
      "text/plain": [
       "<Figure size 1080x576 with 2 Axes>"
      ]
     },
     "metadata": {
      "needs_background": "light"
     },
     "output_type": "display_data"
    }
   ],
   "source": [
    "plt.figure(figsize=(15,8))\n",
    "sns.heatmap(data.corr(),annot=True,cmap='viridis')"
   ]
  },
  {
   "cell_type": "code",
   "execution_count": 53,
   "metadata": {},
   "outputs": [
    {
     "data": {
      "text/plain": [
       "<seaborn.axisgrid.FacetGrid at 0x18b1be02708>"
      ]
     },
     "execution_count": 53,
     "metadata": {},
     "output_type": "execute_result"
    },
    {
     "data": {
      "text/plain": [
       "<Figure size 720x432 with 0 Axes>"
      ]
     },
     "metadata": {},
     "output_type": "display_data"
    },
    {
     "data": {
      "image/png": "[encoded data removed]",
      "text/plain": [
       "<Figure size 360x360 with 1 Axes>"
      ]
     },
     "metadata": {
      "needs_background": "light"
     },
     "output_type": "display_data"
    }
   ],
   "source": [
    "plt.figure(figsize=(10,6))\n",
    "sns.lmplot(x='ap_hi',y='ap_lo',data=data)"
   ]
  },
  {
   "cell_type": "markdown",
   "metadata": {},
   "source": [
    "The 'ap_hi' and 'ap_lo' seems to be collinearity, so choose only the 'ap_hi' due to a little bit higher correlation. "
   ]
  },
  {
   "cell_type": "markdown",
   "metadata": {},
   "source": [
    "## Data Preprocessing : Feature Selection #\n",
    "drop id and ap_lo column"
   ]
  },
  {
   "cell_type": "code",
   "execution_count": 54,
   "metadata": {
    "scrolled": true
   },
   "outputs": [
    {
     "data": {
      "text/plain": [
       "Index(['id', 'height', 'weight', 'ap_hi', 'ap_lo', 'cholesterol', 'gluc',\n",
       "       'smoke', 'alco', 'active', 'cardio', 'age_range', 'men'],\n",
       "      dtype='object')"
      ]
     },
     "execution_count": 54,
     "metadata": {},
     "output_type": "execute_result"
    }
   ],
   "source": [
    "data.columns"
   ]
  },
  {
   "cell_type": "code",
   "execution_count": 55,
   "metadata": {},
   "outputs": [],
   "source": [
    "optimized_column = ['height', 'weight', 'ap_hi', 'cholesterol', 'gluc',\n",
    "\n",
    "       'smoke', 'alco', 'active', 'age_range', 'men']"
   ]
  },
  {
   "cell_type": "code",
   "execution_count": 56,
   "metadata": {},
   "outputs": [],
   "source": [
    "X = data[optimized_column]"
   ]
  },
  {
   "cell_type": "code",
   "execution_count": 57,
   "metadata": {},
   "outputs": [
    {
     "data": {
      "text/html": [
       "<div>\n",
       "<style scoped>\n",
       "    .dataframe tbody tr th:only-of-type {\n",
       "        vertical-align: middle;\n",
       "    }\n",
       "\n",
       "    .dataframe tbody tr th {\n",
       "        vertical-align: top;\n",
       "    }\n",
       "\n",
       "    .dataframe thead th {\n",
       "        text-align: right;\n",
       "    }\n",
       "</style>\n",
       "<table border=\"1\" class=\"dataframe\">\n",
       "  <thead>\n",
       "    <tr style=\"text-align: right;\">\n",
       "      <th></th>\n",
       "      <th>height</th>\n",
       "      <th>weight</th>\n",
       "      <th>ap_hi</th>\n",
       "      <th>cholesterol</th>\n",
       "      <th>gluc</th>\n",
       "      <th>smoke</th>\n",
       "      <th>alco</th>\n",
       "      <th>active</th>\n",
       "      <th>age_range</th>\n",
       "      <th>men</th>\n",
       "    </tr>\n",
       "  </thead>\n",
       "  <tbody>\n",
       "    <tr>\n",
       "      <th>0</th>\n",
       "      <td>168</td>\n",
       "      <td>62.0</td>\n",
       "      <td>110</td>\n",
       "      <td>1</td>\n",
       "      <td>1</td>\n",
       "      <td>0</td>\n",
       "      <td>0</td>\n",
       "      <td>1</td>\n",
       "      <td>1</td>\n",
       "      <td>1</td>\n",
       "    </tr>\n",
       "    <tr>\n",
       "      <th>1</th>\n",
       "      <td>156</td>\n",
       "      <td>85.0</td>\n",
       "      <td>140</td>\n",
       "      <td>3</td>\n",
       "      <td>1</td>\n",
       "      <td>0</td>\n",
       "      <td>0</td>\n",
       "      <td>1</td>\n",
       "      <td>2</td>\n",
       "      <td>0</td>\n",
       "    </tr>\n",
       "    <tr>\n",
       "      <th>2</th>\n",
       "      <td>165</td>\n",
       "      <td>64.0</td>\n",
       "      <td>130</td>\n",
       "      <td>3</td>\n",
       "      <td>1</td>\n",
       "      <td>0</td>\n",
       "      <td>0</td>\n",
       "      <td>0</td>\n",
       "      <td>1</td>\n",
       "      <td>0</td>\n",
       "    </tr>\n",
       "    <tr>\n",
       "      <th>3</th>\n",
       "      <td>169</td>\n",
       "      <td>82.0</td>\n",
       "      <td>150</td>\n",
       "      <td>1</td>\n",
       "      <td>1</td>\n",
       "      <td>0</td>\n",
       "      <td>0</td>\n",
       "      <td>1</td>\n",
       "      <td>1</td>\n",
       "      <td>1</td>\n",
       "    </tr>\n",
       "    <tr>\n",
       "      <th>4</th>\n",
       "      <td>156</td>\n",
       "      <td>56.0</td>\n",
       "      <td>100</td>\n",
       "      <td>1</td>\n",
       "      <td>1</td>\n",
       "      <td>0</td>\n",
       "      <td>0</td>\n",
       "      <td>0</td>\n",
       "      <td>1</td>\n",
       "      <td>0</td>\n",
       "    </tr>\n",
       "    <tr>\n",
       "      <th>...</th>\n",
       "      <td>...</td>\n",
       "      <td>...</td>\n",
       "      <td>...</td>\n",
       "      <td>...</td>\n",
       "      <td>...</td>\n",
       "      <td>...</td>\n",
       "      <td>...</td>\n",
       "      <td>...</td>\n",
       "      <td>...</td>\n",
       "      <td>...</td>\n",
       "    </tr>\n",
       "    <tr>\n",
       "      <th>69994</th>\n",
       "      <td>165</td>\n",
       "      <td>80.0</td>\n",
       "      <td>150</td>\n",
       "      <td>1</td>\n",
       "      <td>1</td>\n",
       "      <td>0</td>\n",
       "      <td>0</td>\n",
       "      <td>1</td>\n",
       "      <td>2</td>\n",
       "      <td>0</td>\n",
       "    </tr>\n",
       "    <tr>\n",
       "      <th>69995</th>\n",
       "      <td>168</td>\n",
       "      <td>76.0</td>\n",
       "      <td>120</td>\n",
       "      <td>1</td>\n",
       "      <td>1</td>\n",
       "      <td>1</td>\n",
       "      <td>0</td>\n",
       "      <td>1</td>\n",
       "      <td>1</td>\n",
       "      <td>1</td>\n",
       "    </tr>\n",
       "    <tr>\n",
       "      <th>69997</th>\n",
       "      <td>183</td>\n",
       "      <td>105.0</td>\n",
       "      <td>180</td>\n",
       "      <td>3</td>\n",
       "      <td>1</td>\n",
       "      <td>0</td>\n",
       "      <td>1</td>\n",
       "      <td>0</td>\n",
       "      <td>1</td>\n",
       "      <td>1</td>\n",
       "    </tr>\n",
       "    <tr>\n",
       "      <th>69998</th>\n",
       "      <td>163</td>\n",
       "      <td>72.0</td>\n",
       "      <td>135</td>\n",
       "      <td>1</td>\n",
       "      <td>2</td>\n",
       "      <td>0</td>\n",
       "      <td>0</td>\n",
       "      <td>0</td>\n",
       "      <td>2</td>\n",
       "      <td>0</td>\n",
       "    </tr>\n",
       "    <tr>\n",
       "      <th>69999</th>\n",
       "      <td>170</td>\n",
       "      <td>72.0</td>\n",
       "      <td>120</td>\n",
       "      <td>2</td>\n",
       "      <td>1</td>\n",
       "      <td>0</td>\n",
       "      <td>0</td>\n",
       "      <td>1</td>\n",
       "      <td>2</td>\n",
       "      <td>0</td>\n",
       "    </tr>\n",
       "  </tbody>\n",
       "</table>\n",
       "<p>67671 rows × 10 columns</p>\n",
       "</div>"
      ],
      "text/plain": [
       "       height  weight  ap_hi  cholesterol  gluc  smoke  alco  active  \\\n",
       "0         168    62.0    110            1     1      0     0       1   \n",
       "1         156    85.0    140            3     1      0     0       1   \n",
       "2         165    64.0    130            3     1      0     0       0   \n",
       "3         169    82.0    150            1     1      0     0       1   \n",
       "4         156    56.0    100            1     1      0     0       0   \n",
       "...       ...     ...    ...          ...   ...    ...   ...     ...   \n",
       "69994     165    80.0    150            1     1      0     0       1   \n",
       "69995     168    76.0    120            1     1      1     0       1   \n",
       "69997     183   105.0    180            3     1      0     1       0   \n",
       "69998     163    72.0    135            1     2      0     0       0   \n",
       "69999     170    72.0    120            2     1      0     0       1   \n",
       "\n",
       "       age_range  men  \n",
       "0              1    1  \n",
       "1              2    0  \n",
       "2              1    0  \n",
       "3              1    1  \n",
       "4              1    0  \n",
       "...          ...  ...  \n",
       "69994          2    0  \n",
       "69995          1    1  \n",
       "69997          1    1  \n",
       "69998          2    0  \n",
       "69999          2    0  \n",
       "\n",
       "[67671 rows x 10 columns]"
      ]
     },
     "execution_count": 57,
     "metadata": {},
     "output_type": "execute_result"
    }
   ],
   "source": [
    "X"
   ]
  },
  {
   "cell_type": "code",
   "execution_count": 58,
   "metadata": {},
   "outputs": [],
   "source": [
    "y = data['cardio']"
   ]
  },
  {
   "cell_type": "markdown",
   "metadata": {},
   "source": [
    "# Train/Test split #"
   ]
  },
  {
   "cell_type": "code",
   "execution_count": 59,
   "metadata": {},
   "outputs": [],
   "source": [
    "from sklearn.model_selection import train_test_split"
   ]
  },
  {
   "cell_type": "code",
   "execution_count": 60,
   "metadata": {},
   "outputs": [],
   "source": [
    "X_train, X_test, y_train, y_test = train_test_split(X,y,test_size=0.2,random_state=99,stratify=y)"
   ]
  },
  {
   "cell_type": "markdown",
   "metadata": {},
   "source": [
    "# Normailizing Data #"
   ]
  },
  {
   "cell_type": "code",
   "execution_count": 61,
   "metadata": {},
   "outputs": [],
   "source": [
    "from sklearn.preprocessing import MinMaxScaler"
   ]
  },
  {
   "cell_type": "code",
   "execution_count": 62,
   "metadata": {},
   "outputs": [],
   "source": [
    "scaler = MinMaxScaler()"
   ]
  },
  {
   "cell_type": "code",
   "execution_count": 63,
   "metadata": {},
   "outputs": [
    {
     "data": {
      "text/plain": [
       "MinMaxScaler(copy=True, feature_range=(0, 1))"
      ]
     },
     "execution_count": 63,
     "metadata": {},
     "output_type": "execute_result"
    }
   ],
   "source": [
    "scaler.fit(X_train)"
   ]
  },
  {
   "cell_type": "code",
   "execution_count": 64,
   "metadata": {},
   "outputs": [],
   "source": [
    "X_train = scaler.transform(X_train)\n",
    "X_test = scaler.transform(X_test)"
   ]
  },
  {
   "cell_type": "markdown",
   "metadata": {},
   "source": [
    "# Creating Models : 1. Logistic Regression #"
   ]
  },
  {
   "cell_type": "code",
   "execution_count": 65,
   "metadata": {},
   "outputs": [],
   "source": [
    "from sklearn.linear_model import LogisticRegression"
   ]
  },
  {
   "cell_type": "code",
   "execution_count": 66,
   "metadata": {},
   "outputs": [],
   "source": [
    "lr = LogisticRegression()"
   ]
  },
  {
   "cell_type": "code",
   "execution_count": 67,
   "metadata": {},
   "outputs": [
    {
     "data": {
      "text/plain": [
       "LogisticRegression(C=1.0, class_weight=None, dual=False, fit_intercept=True,\n",
       "                   intercept_scaling=1, l1_ratio=None, max_iter=100,\n",
       "                   multi_class='auto', n_jobs=None, penalty='l2',\n",
       "                   random_state=None, solver='lbfgs', tol=0.0001, verbose=0,\n",
       "                   warm_start=False)"
      ]
     },
     "execution_count": 67,
     "metadata": {},
     "output_type": "execute_result"
    }
   ],
   "source": [
    "lr.fit(X_train,y_train)"
   ]
  },
  {
   "cell_type": "code",
   "execution_count": 68,
   "metadata": {},
   "outputs": [],
   "source": [
    "predictions = lr.predict(X_test)"
   ]
  },
  {
   "cell_type": "markdown",
   "metadata": {},
   "source": [
    "# Logistic Regression: Model Evaluation "
   ]
  },
  {
   "cell_type": "code",
   "execution_count": 69,
   "metadata": {},
   "outputs": [],
   "source": [
    "from sklearn.metrics import classification_report, confusion_matrix"
   ]
  },
  {
   "cell_type": "code",
   "execution_count": 70,
   "metadata": {},
   "outputs": [
    {
     "name": "stdout",
     "output_type": "stream",
     "text": [
      "              precision    recall  f1-score   support\n",
      "\n",
      "           0       0.71      0.80      0.75      6870\n",
      "           1       0.76      0.65      0.70      6665\n",
      "\n",
      "    accuracy                           0.73     13535\n",
      "   macro avg       0.73      0.73      0.73     13535\n",
      "weighted avg       0.73      0.73      0.73     13535\n",
      "\n"
     ]
    }
   ],
   "source": [
    "print(classification_report(y_test,predictions))"
   ]
  },
  {
   "cell_type": "code",
   "execution_count": 71,
   "metadata": {
    "scrolled": true
   },
   "outputs": [
    {
     "name": "stdout",
     "output_type": "stream",
     "text": [
      "[[5515 1355]\n",
      " [2306 4359]]\n"
     ]
    }
   ],
   "source": [
    "print(confusion_matrix(y_test,predictions))"
   ]
  },
  {
   "cell_type": "markdown",
   "metadata": {},
   "source": [
    "**Evaluation on training data**\n",
    "\n",
    "It shows no overfitting."
   ]
  },
  {
   "cell_type": "code",
   "execution_count": 72,
   "metadata": {},
   "outputs": [
    {
     "name": "stdout",
     "output_type": "stream",
     "text": [
      "              precision    recall  f1-score   support\n",
      "\n",
      "           0       0.70      0.79      0.75     27479\n",
      "           1       0.75      0.65      0.70     26657\n",
      "\n",
      "    accuracy                           0.72     54136\n",
      "   macro avg       0.73      0.72      0.72     54136\n",
      "weighted avg       0.73      0.72      0.72     54136\n",
      "\n"
     ]
    }
   ],
   "source": [
    "predict_train = lr.predict(X_train)\n",
    "print(classification_report(y_train,predict_train))"
   ]
  },
  {
   "cell_type": "markdown",
   "metadata": {},
   "source": [
    "# Logistic Regression: Model Tuning #"
   ]
  },
  {
   "cell_type": "markdown",
   "metadata": {},
   "source": [
    "**1. RFECV**\n",
    "\n",
    "Try RFECV but fail to converge."
   ]
  },
  {
   "cell_type": "code",
   "execution_count": 73,
   "metadata": {
    "scrolled": true
   },
   "outputs": [],
   "source": [
    "#from sklearn.feature_selection import RFECV\n",
    "#selector = RFECV(lr,cv=100)\n",
    "#selector.fit(X,y)"
   ]
  },
  {
   "cell_type": "markdown",
   "metadata": {},
   "source": [
    "**2. Grid search CV**\n",
    "\n",
    "Try GridSearchCV but fail to converge."
   ]
  },
  {
   "cell_type": "code",
   "execution_count": 74,
   "metadata": {},
   "outputs": [],
   "source": [
    "#from sklearn.model_selection import GridSearchCV\n",
    "#hyperparameters = {\"C\":np.logspace(0,4,10), \"penalty\":[\"l2\",\"l1\"], \"solver\":[\"liblinear\"]}"
   ]
  },
  {
   "cell_type": "code",
   "execution_count": 75,
   "metadata": {
    "scrolled": true
   },
   "outputs": [],
   "source": [
    "#grid = GridSearchCV(lr,param_grid=hyperparameters,cv=10)\n",
    "#grid.fit(X,y)"
   ]
  },
  {
   "cell_type": "markdown",
   "metadata": {},
   "source": [
    "# Creating Models : 2. Random Forest #"
   ]
  },
  {
   "cell_type": "code",
   "execution_count": 76,
   "metadata": {},
   "outputs": [
    {
     "data": {
      "text/plain": [
       "RandomForestClassifier(bootstrap=True, ccp_alpha=0.0, class_weight=None,\n",
       "                       criterion='gini', max_depth=None, max_features='auto',\n",
       "                       max_leaf_nodes=None, max_samples=None,\n",
       "                       min_impurity_decrease=0.0, min_impurity_split=None,\n",
       "                       min_samples_leaf=1, min_samples_split=2,\n",
       "                       min_weight_fraction_leaf=0.0, n_estimators=200,\n",
       "                       n_jobs=None, oob_score=False, random_state=99, verbose=0,\n",
       "                       warm_start=False)"
      ]
     },
     "execution_count": 76,
     "metadata": {},
     "output_type": "execute_result"
    }
   ],
   "source": [
    "from sklearn.ensemble import RandomForestClassifier\n",
    "rfc = RandomForestClassifier(n_estimators=200,random_state=99)\n",
    "rfc.fit(X_train,y_train)"
   ]
  },
  {
   "cell_type": "code",
   "execution_count": 77,
   "metadata": {},
   "outputs": [],
   "source": [
    "rfc_pred = rfc.predict(X_test)"
   ]
  },
  {
   "cell_type": "code",
   "execution_count": 78,
   "metadata": {
    "scrolled": true
   },
   "outputs": [
    {
     "name": "stdout",
     "output_type": "stream",
     "text": [
      "              precision    recall  f1-score   support\n",
      "\n",
      "           0       0.69      0.71      0.70      6870\n",
      "           1       0.69      0.67      0.68      6665\n",
      "\n",
      "    accuracy                           0.69     13535\n",
      "   macro avg       0.69      0.69      0.69     13535\n",
      "weighted avg       0.69      0.69      0.69     13535\n",
      "\n"
     ]
    }
   ],
   "source": [
    "print(classification_report(y_test,rfc_pred))"
   ]
  },
  {
   "cell_type": "markdown",
   "metadata": {},
   "source": [
    "# Creating Models : 3. XGBoost #"
   ]
  },
  {
   "cell_type": "code",
   "execution_count": 79,
   "metadata": {},
   "outputs": [],
   "source": [
    "from xgboost import XGBClassifier"
   ]
  },
  {
   "cell_type": "code",
   "execution_count": 80,
   "metadata": {},
   "outputs": [],
   "source": [
    "xgb_model = XGBClassifier()"
   ]
  },
  {
   "cell_type": "code",
   "execution_count": 81,
   "metadata": {},
   "outputs": [
    {
     "data": {
      "text/plain": [
       "XGBClassifier(base_score=0.5, booster='gbtree', colsample_bylevel=1,\n",
       "              colsample_bynode=1, colsample_bytree=1, gamma=0, gpu_id=-1,\n",
       "              importance_type='gain', interaction_constraints='',\n",
       "              learning_rate=0.300000012, max_delta_step=0, max_depth=6,\n",
       "              min_child_weight=1, missing=nan, monotone_constraints='()',\n",
       "              n_estimators=100, n_jobs=0, num_parallel_tree=1,\n",
       "              objective='binary:logistic', random_state=0, reg_alpha=0,\n",
       "              reg_lambda=1, scale_pos_weight=1, subsample=1,\n",
       "              tree_method='exact', validate_parameters=1, verbosity=None)"
      ]
     },
     "execution_count": 81,
     "metadata": {},
     "output_type": "execute_result"
    }
   ],
   "source": [
    "xgb_model.fit(X_train,y_train)"
   ]
  },
  {
   "cell_type": "code",
   "execution_count": 82,
   "metadata": {},
   "outputs": [],
   "source": [
    "xgb_pred = xgb_model.predict(X_test)"
   ]
  },
  {
   "cell_type": "code",
   "execution_count": 83,
   "metadata": {},
   "outputs": [
    {
     "name": "stdout",
     "output_type": "stream",
     "text": [
      "              precision    recall  f1-score   support\n",
      "\n",
      "           0       0.71      0.80      0.75      6870\n",
      "           1       0.76      0.67      0.71      6665\n",
      "\n",
      "    accuracy                           0.74     13535\n",
      "   macro avg       0.74      0.73      0.73     13535\n",
      "weighted avg       0.74      0.74      0.73     13535\n",
      "\n"
     ]
    }
   ],
   "source": [
    "print(classification_report(y_test,xgb_pred))"
   ]
  },
  {
   "cell_type": "markdown",
   "metadata": {},
   "source": [
    "# Creating Models: 4. Neural Network"
   ]
  },
  {
   "cell_type": "code",
   "execution_count": 84,
   "metadata": {},
   "outputs": [
    {
     "data": {
      "text/plain": [
       "(54136, 10)"
      ]
     },
     "execution_count": 84,
     "metadata": {},
     "output_type": "execute_result"
    }
   ],
   "source": [
    "X_train.shape"
   ]
  },
  {
   "cell_type": "code",
   "execution_count": 85,
   "metadata": {},
   "outputs": [],
   "source": [
    "#X_train = X_train.values\n",
    "#X_test = X_test.values\n",
    "y_train = y_train.values\n",
    "y_test = y_test.values"
   ]
  },
  {
   "cell_type": "code",
   "execution_count": 86,
   "metadata": {},
   "outputs": [],
   "source": [
    "import tensorflow as tf"
   ]
  },
  {
   "cell_type": "code",
   "execution_count": 87,
   "metadata": {},
   "outputs": [],
   "source": [
    "from tensorflow.keras.models import Sequential\n",
    "from tensorflow.keras.layers import Dense, Activation"
   ]
  },
  {
   "cell_type": "code",
   "execution_count": 88,
   "metadata": {},
   "outputs": [],
   "source": [
    "early_stop = tf.keras.callbacks.EarlyStopping(monitor='val_loss',mode='min',patience=10)\n",
    "check_point = tf.keras.callbacks.ModelCheckpoint('cardio_disease_weight.hdf5', monitor='val_accuracy',save_best_only=True)"
   ]
  },
  {
   "cell_type": "code",
   "execution_count": 89,
   "metadata": {},
   "outputs": [],
   "source": [
    "nn_model = Sequential()\n",
    "\n",
    "nn_model.add(Dense(units=10,activation='relu'))\n",
    "nn_model.add(Dense(units=5,activation='relu'))\n",
    "\n",
    "nn_model.add(Dense(units=1, activation='sigmoid'))\n",
    "\n",
    "nn_model.compile(loss='binary_crossentropy',optimizer='adam', metrics=['accuracy'])"
   ]
  },
  {
   "cell_type": "code",
   "execution_count": 90,
   "metadata": {},
   "outputs": [
    {
     "name": "stdout",
     "output_type": "stream",
     "text": [
      "Train on 54136 samples, validate on 13535 samples\n",
      "Epoch 1/100\n",
      "54136/54136 [==============================] - 3s 58us/sample - loss: 0.6223 - accuracy: 0.6517 - val_loss: 0.5671 - val_accuracy: 0.7183\n",
      "Epoch 2/100\n",
      "54136/54136 [==============================] - 3s 49us/sample - loss: 0.5642 - accuracy: 0.7189 - val_loss: 0.5546 - val_accuracy: 0.7301\n",
      "Epoch 3/100\n",
      "54136/54136 [==============================] - 2s 41us/sample - loss: 0.5597 - accuracy: 0.7235 - val_loss: 0.5526 - val_accuracy: 0.7314\n",
      "Epoch 4/100\n",
      "54136/54136 [==============================] - 2s 36us/sample - loss: 0.5588 - accuracy: 0.7240 - val_loss: 0.5515 - val_accuracy: 0.7308\n",
      "Epoch 5/100\n",
      "54136/54136 [==============================] - 2s 38us/sample - loss: 0.5581 - accuracy: 0.7232 - val_loss: 0.5525 - val_accuracy: 0.7308\n",
      "Epoch 6/100\n",
      "54136/54136 [==============================] - 2s 38us/sample - loss: 0.5575 - accuracy: 0.7238 - val_loss: 0.5508 - val_accuracy: 0.7328\n",
      "Epoch 7/100\n",
      "54136/54136 [==============================] - 2s 36us/sample - loss: 0.5567 - accuracy: 0.7252 - val_loss: 0.5496 - val_accuracy: 0.7310\n",
      "Epoch 8/100\n",
      "54136/54136 [==============================] - 2s 36us/sample - loss: 0.5555 - accuracy: 0.7263 - val_loss: 0.5492 - val_accuracy: 0.7325\n",
      "Epoch 9/100\n",
      "54136/54136 [==============================] - 2s 37us/sample - loss: 0.5548 - accuracy: 0.7247 - val_loss: 0.5481 - val_accuracy: 0.7308\n",
      "Epoch 10/100\n",
      "54136/54136 [==============================] - 2s 36us/sample - loss: 0.5548 - accuracy: 0.7252 - val_loss: 0.5474 - val_accuracy: 0.7342\n",
      "Epoch 11/100\n",
      "54136/54136 [==============================] - 2s 36us/sample - loss: 0.5538 - accuracy: 0.7268 - val_loss: 0.5478 - val_accuracy: 0.7322\n",
      "Epoch 12/100\n",
      "54136/54136 [==============================] - 2s 37us/sample - loss: 0.5535 - accuracy: 0.7264 - val_loss: 0.5465 - val_accuracy: 0.7325\n",
      "Epoch 13/100\n",
      "54136/54136 [==============================] - 2s 38us/sample - loss: 0.5531 - accuracy: 0.7260 - val_loss: 0.5460 - val_accuracy: 0.7337\n",
      "Epoch 14/100\n",
      "54136/54136 [==============================] - 2s 37us/sample - loss: 0.5527 - accuracy: 0.7269 - val_loss: 0.5451 - val_accuracy: 0.7314\n",
      "Epoch 15/100\n",
      "54136/54136 [==============================] - 2s 37us/sample - loss: 0.5520 - accuracy: 0.7260 - val_loss: 0.5447 - val_accuracy: 0.7337\n",
      "Epoch 16/100\n",
      "54136/54136 [==============================] - 2s 39us/sample - loss: 0.5516 - accuracy: 0.7261 - val_loss: 0.5471 - val_accuracy: 0.7335\n",
      "Epoch 17/100\n",
      "54136/54136 [==============================] - 2s 43us/sample - loss: 0.5513 - accuracy: 0.7257 - val_loss: 0.5434 - val_accuracy: 0.7331\n",
      "Epoch 18/100\n",
      "54136/54136 [==============================] - 2s 43us/sample - loss: 0.5505 - accuracy: 0.7264 - val_loss: 0.5434 - val_accuracy: 0.7331\n",
      "Epoch 19/100\n",
      "54136/54136 [==============================] - 2s 42us/sample - loss: 0.5503 - accuracy: 0.7278 - val_loss: 0.5428 - val_accuracy: 0.7343\n",
      "Epoch 20/100\n",
      "54136/54136 [==============================] - 2s 46us/sample - loss: 0.5503 - accuracy: 0.7269 - val_loss: 0.5420 - val_accuracy: 0.7340\n",
      "Epoch 21/100\n",
      "54136/54136 [==============================] - 2s 43us/sample - loss: 0.5499 - accuracy: 0.7261 - val_loss: 0.5421 - val_accuracy: 0.7316\n",
      "Epoch 22/100\n",
      "54136/54136 [==============================] - 2s 39us/sample - loss: 0.5499 - accuracy: 0.7274 - val_loss: 0.5420 - val_accuracy: 0.7331\n",
      "Epoch 23/100\n",
      "54136/54136 [==============================] - 2s 37us/sample - loss: 0.5493 - accuracy: 0.7265 - val_loss: 0.5416 - val_accuracy: 0.7331\n",
      "Epoch 24/100\n",
      "54136/54136 [==============================] - 2s 36us/sample - loss: 0.5492 - accuracy: 0.7271 - val_loss: 0.5426 - val_accuracy: 0.7328\n",
      "Epoch 25/100\n",
      "54136/54136 [==============================] - 2s 41us/sample - loss: 0.5491 - accuracy: 0.7267 - val_loss: 0.5411 - val_accuracy: 0.7347\n",
      "Epoch 26/100\n",
      "54136/54136 [==============================] - 2s 43us/sample - loss: 0.5489 - accuracy: 0.7270 - val_loss: 0.5416 - val_accuracy: 0.7331\n",
      "Epoch 27/100\n",
      "54136/54136 [==============================] - 2s 41us/sample - loss: 0.5484 - accuracy: 0.7272 - val_loss: 0.5410 - val_accuracy: 0.7332\n",
      "Epoch 28/100\n",
      "54136/54136 [==============================] - 2s 43us/sample - loss: 0.5487 - accuracy: 0.7264 - val_loss: 0.5409 - val_accuracy: 0.7334\n",
      "Epoch 29/100\n",
      "54136/54136 [==============================] - 2s 45us/sample - loss: 0.5484 - accuracy: 0.7264 - val_loss: 0.5412 - val_accuracy: 0.7327\n",
      "Epoch 30/100\n",
      "54136/54136 [==============================] - 2s 41us/sample - loss: 0.5483 - accuracy: 0.7269 - val_loss: 0.5406 - val_accuracy: 0.7339\n",
      "Epoch 31/100\n",
      "54136/54136 [==============================] - 2s 39us/sample - loss: 0.5482 - accuracy: 0.7270 - val_loss: 0.5399 - val_accuracy: 0.7347\n",
      "Epoch 32/100\n",
      "54136/54136 [==============================] - 2s 39us/sample - loss: 0.5478 - accuracy: 0.7277 - val_loss: 0.5403 - val_accuracy: 0.7313\n",
      "Epoch 33/100\n",
      "54136/54136 [==============================] - 2s 38us/sample - loss: 0.5477 - accuracy: 0.7279 - val_loss: 0.5400 - val_accuracy: 0.7337\n",
      "Epoch 34/100\n",
      "54136/54136 [==============================] - 2s 38us/sample - loss: 0.5476 - accuracy: 0.7266 - val_loss: 0.5402 - val_accuracy: 0.7339\n",
      "Epoch 35/100\n",
      "54136/54136 [==============================] - 2s 44us/sample - loss: 0.5474 - accuracy: 0.7279 - val_loss: 0.5402 - val_accuracy: 0.7353\n",
      "Epoch 36/100\n",
      "54136/54136 [==============================] - 3s 46us/sample - loss: 0.5477 - accuracy: 0.7275 - val_loss: 0.5391 - val_accuracy: 0.7328\n",
      "Epoch 37/100\n",
      "54136/54136 [==============================] - 2s 45us/sample - loss: 0.5475 - accuracy: 0.7274 - val_loss: 0.5410 - val_accuracy: 0.7337\n",
      "Epoch 38/100\n",
      "54136/54136 [==============================] - 2s 42us/sample - loss: 0.5474 - accuracy: 0.7275 - val_loss: 0.5395 - val_accuracy: 0.7334\n",
      "Epoch 39/100\n",
      "54136/54136 [==============================] - 2s 42us/sample - loss: 0.5474 - accuracy: 0.7273 - val_loss: 0.5400 - val_accuracy: 0.7359\n",
      "Epoch 40/100\n",
      "54136/54136 [==============================] - 2s 42us/sample - loss: 0.5472 - accuracy: 0.7293 - val_loss: 0.5389 - val_accuracy: 0.7346\n",
      "Epoch 41/100\n",
      "54136/54136 [==============================] - 2s 35us/sample - loss: 0.5475 - accuracy: 0.7270 - val_loss: 0.5392 - val_accuracy: 0.7351\n",
      "Epoch 42/100\n",
      "54136/54136 [==============================] - 2s 42us/sample - loss: 0.5472 - accuracy: 0.7279 - val_loss: 0.5400 - val_accuracy: 0.7343\n",
      "Epoch 43/100\n",
      "54136/54136 [==============================] - 2s 41us/sample - loss: 0.5472 - accuracy: 0.7274 - val_loss: 0.5387 - val_accuracy: 0.7348\n",
      "Epoch 44/100\n",
      "54136/54136 [==============================] - 2s 41us/sample - loss: 0.5471 - accuracy: 0.7278 - val_loss: 0.5403 - val_accuracy: 0.7334\n",
      "Epoch 45/100\n",
      "54136/54136 [==============================] - 2s 39us/sample - loss: 0.5470 - accuracy: 0.7285 - val_loss: 0.5390 - val_accuracy: 0.7351\n",
      "Epoch 46/100\n",
      "54136/54136 [==============================] - 2s 42us/sample - loss: 0.5469 - accuracy: 0.7270 - val_loss: 0.5379 - val_accuracy: 0.7354\n",
      "Epoch 47/100\n",
      "54136/54136 [==============================] - 2s 42us/sample - loss: 0.5469 - accuracy: 0.7276 - val_loss: 0.5380 - val_accuracy: 0.7341\n",
      "Epoch 48/100\n",
      "54136/54136 [==============================] - 2s 43us/sample - loss: 0.5470 - accuracy: 0.7270 - val_loss: 0.5388 - val_accuracy: 0.7347\n",
      "Epoch 49/100\n",
      "54136/54136 [==============================] - 2s 43us/sample - loss: 0.5466 - accuracy: 0.7280 - val_loss: 0.5397 - val_accuracy: 0.7335\n",
      "Epoch 50/100\n",
      "54136/54136 [==============================] - 2s 42us/sample - loss: 0.5466 - accuracy: 0.7275 - val_loss: 0.5388 - val_accuracy: 0.7339\n",
      "Epoch 51/100\n",
      "54136/54136 [==============================] - 2s 41us/sample - loss: 0.5466 - accuracy: 0.7281 - val_loss: 0.5385 - val_accuracy: 0.7346\n",
      "Epoch 52/100\n",
      "54136/54136 [==============================] - 2s 39us/sample - loss: 0.5467 - accuracy: 0.7270 - val_loss: 0.5385 - val_accuracy: 0.7347\n",
      "Epoch 53/100\n",
      "54136/54136 [==============================] - 2s 40us/sample - loss: 0.5467 - accuracy: 0.7272 - val_loss: 0.5394 - val_accuracy: 0.7339\n",
      "Epoch 54/100\n",
      "54136/54136 [==============================] - 2s 43us/sample - loss: 0.5465 - accuracy: 0.7273 - val_loss: 0.5394 - val_accuracy: 0.7353\n"
     ]
    },
    {
     "name": "stdout",
     "output_type": "stream",
     "text": [
      "Epoch 55/100\n",
      "54136/54136 [==============================] - 2s 44us/sample - loss: 0.5465 - accuracy: 0.7269 - val_loss: 0.5401 - val_accuracy: 0.7351\n",
      "Epoch 56/100\n",
      "54136/54136 [==============================] - 2s 40us/sample - loss: 0.5466 - accuracy: 0.7279 - val_loss: 0.5404 - val_accuracy: 0.7337\n"
     ]
    },
    {
     "data": {
      "text/plain": [
       "<tensorflow.python.keras.callbacks.History at 0x18b40dffbc8>"
      ]
     },
     "execution_count": 90,
     "metadata": {},
     "output_type": "execute_result"
    }
   ],
   "source": [
    "nn_model.fit(x=X_train,y=y_train,epochs=100,validation_data=(X_test,y_test),verbose=1,callbacks=[early_stop,check_point])"
   ]
  },
  {
   "cell_type": "code",
   "execution_count": 91,
   "metadata": {},
   "outputs": [
    {
     "data": {
      "text/plain": [
       "<matplotlib.legend.Legend at 0x18b422e31c8>"
      ]
     },
     "execution_count": 91,
     "metadata": {},
     "output_type": "execute_result"
    },
    {
     "data": {
      "image/png": "[encoded data removed]",
      "text/plain": [
       "<Figure size 432x288 with 1 Axes>"
      ]
     },
     "metadata": {
      "needs_background": "light"
     },
     "output_type": "display_data"
    }
   ],
   "source": [
    "nn_model_loss = pd.DataFrame(nn_model.history.history)\n",
    "nn_model_loss['loss'].plot()\n",
    "nn_model_loss['val_loss'].plot()\n",
    "plt.legend()"
   ]
  },
  {
   "cell_type": "code",
   "execution_count": 92,
   "metadata": {},
   "outputs": [],
   "source": [
    "nn_predict = nn_model.predict_classes(X_test)"
   ]
  },
  {
   "cell_type": "code",
   "execution_count": 93,
   "metadata": {
    "scrolled": true
   },
   "outputs": [
    {
     "name": "stdout",
     "output_type": "stream",
     "text": [
      "              precision    recall  f1-score   support\n",
      "\n",
      "           0       0.72      0.78      0.75      6870\n",
      "           1       0.75      0.68      0.72      6665\n",
      "\n",
      "    accuracy                           0.73     13535\n",
      "   macro avg       0.74      0.73      0.73     13535\n",
      "weighted avg       0.74      0.73      0.73     13535\n",
      "\n"
     ]
    }
   ],
   "source": [
    "print(classification_report(y_test,nn_predict))"
   ]
  },
  {
   "cell_type": "markdown",
   "metadata": {},
   "source": [
    "# Summary"
   ]
  },
  {
   "cell_type": "markdown",
   "metadata": {},
   "source": [
    "| Model | Accuracy | Sensitivity | Specificity \n",
    "| --- | --- | --- | --- |\n",
    "| Logistic Regression | 0.73 | 0.65 | 0.80 |\n",
    "| Random forest | 0.69 | 0.67 | 0.71 |\n",
    "| XGBoost | 0.74 | 0.67 | 0.80 |\n",
    "| Neural Network | 0.73 | 0.68 | 0.78 |"
   ]
  },
  {
   "cell_type": "markdown",
   "metadata": {},
   "source": [
    "The XGboost has maximum overall accuracy.\n",
    "\n",
    "But in the case that we want to screen the patient whether they are at high risk of having cardiovascular disease or not and then do further investigation. We need to choose the one with the highest sensitivity, which is the neural network.\n"
   ]
  }
 ],
 "metadata": {
  "kernelspec": {
   "display_name": "Python 3",
   "language": "python",
   "name": "python3"
  },
  "language_info": {
   "codemirror_mode": {
    "name": "ipython",
    "version": 3
   },
   "file_extension": ".py",
   "mimetype": "text/x-python",
   "name": "python",
   "nbconvert_exporter": "python",
   "pygments_lexer": "ipython3",
   "version": "3.7.7"
  }
 },
 "nbformat": 4,
 "nbformat_minor": 4
}
